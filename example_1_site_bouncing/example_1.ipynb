{
 "cells": [
  {
   "cell_type": "markdown",
   "metadata": {},
   "source": [
    "# Example 1: Web bouncing"
   ]
  },
  {
   "cell_type": "code",
   "execution_count": 7,
   "metadata": {},
   "outputs": [],
   "source": [
    "import pandas as pd\n",
    "import numpy as np"
   ]
  },
  {
   "cell_type": "markdown",
   "metadata": {},
   "source": [
    "Data represents transitions from one url to another (supposedly within our set of urls).\n",
    "\n",
    "Initial urls have code -1, whereas final urls can have either a \"B\" (bounce: the user has bounced to another url that is out of our control. This means that our content was not interesting for him) or \"C\" (close: the user has closed the browser after visiting our last page, indicating that the content ws useful for him. If we owned this website, we would like to achieve as many Cs as posssible)."
   ]
  },
  {
   "cell_type": "code",
   "execution_count": 5,
   "metadata": {},
   "outputs": [],
   "source": [
    "data_site_transitions = pd.read_csv(\"site_data.csv\", header=None)\n",
    "data_site_transitions.columns = ['previous_page', 'nex_page']"
   ]
  },
  {
   "cell_type": "code",
   "execution_count": 6,
   "metadata": {},
   "outputs": [
    {
     "data": {
      "text/html": [
       "<div>\n",
       "<style scoped>\n",
       "    .dataframe tbody tr th:only-of-type {\n",
       "        vertical-align: middle;\n",
       "    }\n",
       "\n",
       "    .dataframe tbody tr th {\n",
       "        vertical-align: top;\n",
       "    }\n",
       "\n",
       "    .dataframe thead th {\n",
       "        text-align: right;\n",
       "    }\n",
       "</style>\n",
       "<table border=\"1\" class=\"dataframe\">\n",
       "  <thead>\n",
       "    <tr style=\"text-align: right;\">\n",
       "      <th></th>\n",
       "      <th>previous_page</th>\n",
       "      <th>nex_page</th>\n",
       "    </tr>\n",
       "  </thead>\n",
       "  <tbody>\n",
       "    <tr>\n",
       "      <th>0</th>\n",
       "      <td>-1</td>\n",
       "      <td>8</td>\n",
       "    </tr>\n",
       "    <tr>\n",
       "      <th>1</th>\n",
       "      <td>4</td>\n",
       "      <td>8</td>\n",
       "    </tr>\n",
       "    <tr>\n",
       "      <th>2</th>\n",
       "      <td>-1</td>\n",
       "      <td>2</td>\n",
       "    </tr>\n",
       "    <tr>\n",
       "      <th>3</th>\n",
       "      <td>1</td>\n",
       "      <td>B</td>\n",
       "    </tr>\n",
       "    <tr>\n",
       "      <th>4</th>\n",
       "      <td>-1</td>\n",
       "      <td>5</td>\n",
       "    </tr>\n",
       "    <tr>\n",
       "      <th>...</th>\n",
       "      <td>...</td>\n",
       "      <td>...</td>\n",
       "    </tr>\n",
       "    <tr>\n",
       "      <th>99995</th>\n",
       "      <td>8</td>\n",
       "      <td>2</td>\n",
       "    </tr>\n",
       "    <tr>\n",
       "      <th>99996</th>\n",
       "      <td>0</td>\n",
       "      <td>5</td>\n",
       "    </tr>\n",
       "    <tr>\n",
       "      <th>99997</th>\n",
       "      <td>0</td>\n",
       "      <td>7</td>\n",
       "    </tr>\n",
       "    <tr>\n",
       "      <th>99998</th>\n",
       "      <td>4</td>\n",
       "      <td>0</td>\n",
       "    </tr>\n",
       "    <tr>\n",
       "      <th>99999</th>\n",
       "      <td>4</td>\n",
       "      <td>9</td>\n",
       "    </tr>\n",
       "  </tbody>\n",
       "</table>\n",
       "<p>100000 rows × 2 columns</p>\n",
       "</div>"
      ],
      "text/plain": [
       "       previous_page nex_page\n",
       "0                 -1        8\n",
       "1                  4        8\n",
       "2                 -1        2\n",
       "3                  1        B\n",
       "4                 -1        5\n",
       "...              ...      ...\n",
       "99995              8        2\n",
       "99996              0        5\n",
       "99997              0        7\n",
       "99998              4        0\n",
       "99999              4        9\n",
       "\n",
       "[100000 rows x 2 columns]"
      ]
     },
     "execution_count": 6,
     "metadata": {},
     "output_type": "execute_result"
    }
   ],
   "source": [
    "data_site_transitions"
   ]
  },
  {
   "cell_type": "markdown",
   "metadata": {},
   "source": [
    "## Store transitions"
   ]
  },
  {
   "cell_type": "code",
   "execution_count": 20,
   "metadata": {},
   "outputs": [
    {
     "name": "stdout",
     "output_type": "stream",
     "text": [
      "Initial state 8 0.10152591025834719\n",
      "Initial state 2 0.09507982071813466\n",
      "Initial state 5 0.09779926474291183\n",
      "Initial state 9 0.10384247368686106\n",
      "Initial state 0 0.10298635241980159\n",
      "Initial state 6 0.09800070504104345\n",
      "Initial state 7 0.09971294757516241\n",
      "Initial state 1 0.10348995316513068\n",
      "Initial state 4 0.10243239159993957\n",
      "Initial state 3 0.09513018079266758\n",
      "Bounces: 1 0.125939617991374\n",
      "Bounces: 2 0.12649551345962112\n",
      "Bounces: 8 0.12529550827423167\n",
      "Bounces: 6 0.1208153180975911\n",
      "Bounces: 7 0.12371650388179314\n",
      "Bounces: 3 0.12743384922616077\n",
      "Bounces: 4 0.1255756067205974\n",
      "Bounces: 5 0.12369559684398065\n",
      "Bounces: 0 0.1279673590504451\n",
      "Bounces: 9 0.13176232104396302\n"
     ]
    }
   ],
   "source": [
    "transitions = {}\n",
    "row_sums = {}\n",
    "for line in open(\"site_data.csv\", 'r'):\n",
    "    s, e = line.rstrip().split(',')\n",
    "    transitions[(s,e)] = transitions.get((s,e), 0.) + 1\n",
    "    row_sums[s] = row_sums.get(s, 0.) + 1\n",
    "\n",
    "# normalize counts to get the transition probabilities\n",
    "for k, v in transitions.items():\n",
    "    s, e = k\n",
    "    transitions[k] = v / row_sums[s]\n",
    "\n",
    "# initial state distribution\n",
    "# (# sequences starting at state S)/(# of initial cases)\n",
    "for k, v in transitions.items():\n",
    "    s, e = k\n",
    "    if s == '-1': # initial state\n",
    "        print(\"Initial state\", e, v)\n",
    "\n",
    "# bounce rate\n",
    "for k, v in transitions.items():\n",
    "    s, e = k\n",
    "    if e == 'B': # Bounce final state\n",
    "        print(\"Bounces:\", s, v)\n"
   ]
  },
  {
   "cell_type": "markdown",
   "metadata": {},
   "source": [
    "Page id 9 has the highest initial probability and also the highest bounce rate, followed closely by other pages"
   ]
  },
  {
   "cell_type": "markdown",
   "metadata": {},
   "source": []
  }
 ],
 "metadata": {
  "interpreter": {
   "hash": "074c6c7262f455a8caa4cf7811ff724cf98c22dc10d997dd940ccf30166a804c"
  },
  "kernelspec": {
   "display_name": "Python 3.9.5 64-bit ('base': conda)",
   "language": "python",
   "name": "python3"
  },
  "language_info": {
   "codemirror_mode": {
    "name": "ipython",
    "version": 3
   },
   "file_extension": ".py",
   "mimetype": "text/x-python",
   "name": "python",
   "nbconvert_exporter": "python",
   "pygments_lexer": "ipython3",
   "version": "3.9.5"
  },
  "orig_nbformat": 4
 },
 "nbformat": 4,
 "nbformat_minor": 2
}
