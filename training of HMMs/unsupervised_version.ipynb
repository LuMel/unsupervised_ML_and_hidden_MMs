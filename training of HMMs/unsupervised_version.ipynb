{
 "cells": [
  {
   "cell_type": "markdown",
   "metadata": {},
   "source": [
    "## Training HMMs when hidden states are truly unobserved\n",
    "\n",
    "In this case we use a expectation maximization (EM) algorithm. The EM algorithm is useful whenever we have to marginalize over an unknown (hidden) variable. Our likelihood is $p(x) = \\sum_{z} p(x, z)$.\n",
    "\n",
    "The E step of the EM algorithm implies computing the analogue of the counting in the case of observed $z$ s. The thing is that, now, these countings depend on $A, B, \\pi, \\alpha$ and $\\beta$ themselves (so we actually need the forward-backward algorithms at this point). The fact that we cannot count directly is caused by the unobserved nature of the $z$ s.\n",
    "\n",
    "E step:\n",
    "$$\n",
    "\\xi_t(i,j) = \\frac{\\alpha_t(i)A_{i,j}B_{j,x_{t+1}}\\beta_{t+1}(j)}{\\sum_{i=1}^M\\sum_{j=1}^M\\alpha_t(i)A_{i,j}B_{j,x_{t+1}}\\beta_{t+1}(j)}\\,,\\\\\n",
    "\n",
    "\\gamma_t(i) = \\sum_{j=1}^M \\xi_t(i,j)\n",
    "$$\n",
    "\n",
    "The M step now computes $\\pi, A$ and $B$ from the quantities $\\xi$ and $\\gamma$\n",
    "\n",
    "M step:\n",
    "\n",
    "$$\n",
    "\\pi_i = \\gamma_1(i)\\,,\\\\\n",
    "A_{i,j} = \\frac{\\sum_{t=1}^{T-1}\\xi_t(i,j)}{\\sum_{t=1}^{T-1}\\gamma_t(i)}\\,,\\\\\n",
    "B_{j,k} = \\frac{\\sum_{t=1}^{T}\\gamma_t(j)\\mathbb{1}(x_t=k)}{\\sum_{t=1}^{T}\\gamma_t(j)}\\,,\n",
    "$$\n",
    "\n",
    "This is an iterative algorithm that starts from guessed values for $A$, $B$ and $\\pi$ and iterates until convergence. The EM algorithm applied to HMMs (the above algorithm) is actually called `Baum-Welch` algorithm. It ensures only convergence to a *local* maximum, and so one could perform more than one training (starting from different initial points in parameter space) and keep the best final model."
   ]
  },
  {
   "cell_type": "markdown",
   "metadata": {},
   "source": [
    "## Choose the number of hidden states\n",
    "\n",
    "When states $z$ are really unobserved, we do not know how many hidden states to choose ($M$). This needs to be treated as a hyperparameter of the model. For example, we can choose the $M$ that maximizes the log-lokelihood of the resulting model.\n",
    "\n",
    "Another possibility is to use AIC or BIC, that choose the best model penalizing for the number of parameters (on the training set only!)\n",
    "\n",
    "$$ AIC = 2p- 2 \\log L\\,,\\\\\n",
    "BIC = p\\log N -2\\log L\\,,\n",
    "$$\n",
    "where $p$ is the number of parameters. We can choose the minimum (best) AIC or BIC after evaluating on different $M$s"
   ]
  },
  {
   "cell_type": "markdown",
   "metadata": {},
   "source": [
    "## Baum-Welch algorithm for multiple observations\n",
    "\n",
    "We index each observation (each sequence) in our training set by $n$, with $n=1,..., N$. Now we will have $N$ training sequences and, for each one, we will be able to compute a $\\alpha_n\\,, \\beta_n$. There will be also a overall probability of the sequence $P_n$ and a length that of course depends on the sequence (called $T_n$).\n",
    "\n",
    "With this we can use the generalization of our previous formulas (now explicit in $\\alpha, \\beta$) as:\n",
    "$$\n",
    "\\pi_i = \\frac{1}{N}\\sum_{n=1}^N \\frac{\\alpha_n(1,i)\\beta_n(1,i)}{P_n}\\,,\\\\\n",
    "A_{ij} = \\frac{\\sum_{n=1}^N \\frac{1}{P_n} \\sum_{t=1}^{T_n-1}\\alpha_n(t,i)A_{ij}B_{j, x_n(t+1)}\\beta_n(t+1,j)}{\\sum_{n=1}^N \\frac{1}{P_n} \\sum_{t=1}^{T_n-1}\\alpha_n(t,i)\\beta_n(t,i)}\\,,\\\\\n",
    "B_{jk} = \\frac{\\sum_{n=1}^N \\frac{1}{P_n} \\sum_{t=1}^{T_n}\\alpha_n(t,j)\\beta_n(t,j) \\mathbb{1}(x_n(t)=k)}{\\sum_{n=1}^N \\frac{1}{P_n} \\sum_{t=1}^{T_n}\\alpha_n(t,j)\\beta_n(t,j)}\\,,\n",
    "$$\n",
    "\n",
    "\n"
   ]
  },
  {
   "cell_type": "code",
   "execution_count": 1,
   "metadata": {},
   "outputs": [],
   "source": [
    "import numpy as np\n",
    "import matplotlib.pyplot as plt"
   ]
  },
  {
   "cell_type": "markdown",
   "metadata": {},
   "source": [
    "## Class HMM that fits the parameters and makes an inference"
   ]
  },
  {
   "cell_type": "code",
   "execution_count": 2,
   "metadata": {},
   "outputs": [],
   "source": [
    "# create a valid random markov matrix\n",
    "def random_normalized(dim1, dim2):\n",
    "    \"\"\"\n",
    "    Creates a matrix of random numbers that are compatible with Markov\n",
    "    (namely, they rows sum up to 1)\n",
    "    \"\"\"\n",
    "    random_matrix = np.random.rand(dim1, dim2)\n",
    "    #divide by sum over rows to make rows add up to 1 (Markov matrix)\n",
    "    return random_matrix/random_matrix.sum(axis=1, keepdims=True)"
   ]
  },
  {
   "cell_type": "code",
   "execution_count": 413,
   "metadata": {},
   "outputs": [],
   "source": [
    "# class HMM\n",
    "class HMM:\n",
    "    def __init__(self, num_hidden_states):\n",
    "        self.M = num_hidden_states\n",
    "\n",
    "    def fit(self, X: np.ndarray, max_iter: int = 30, verbose: bool=False):\n",
    "        \"\"\"\n",
    "        Parameters:\n",
    "            max_iter: maximum number of EM iterations to allow\n",
    "            X: stores a set of observed sequences as rows.\n",
    "        \"\"\"\n",
    "        # include seed for reproducibility\n",
    "        np.random.seed(123)\n",
    "\n",
    "        # vocabulary size (classes from 0 to V-1)\n",
    "        # (number of x states = K is the maximum number \n",
    "        # of states in the training set found for a sequence)\n",
    "        vocab_size = max(max(x) for x in X) + 1 \n",
    "        num_sequences = len(X)\n",
    "\n",
    "        # initialize pi, A and B\n",
    "        self.pi = np.ones(self.M)/self.M # uniform distirbution for pi\n",
    "        self.A = random_normalized(self.M, self.M)\n",
    "        self.B = random_normalized(self.M, vocab_size)\n",
    "        # store cost\n",
    "        costs = list()\n",
    "        for it in range(max_iter):\n",
    "            #if it % 10 == 0:\n",
    "            #    print('it:', it)\n",
    "            alphas = list()\n",
    "            betas = list()\n",
    "            P = np.zeros(num_sequences) # probabilities\n",
    "            # loop through observations\n",
    "            for n in range(num_sequences):\n",
    "                x = X[n] # n-th sequence\n",
    "                T = len(x) # T_n\n",
    "\n",
    "                #### Compute alpha[t]: forward algorithm\n",
    "                alpha = np.zeros((T, self.M))\n",
    "                alpha[0] = self.pi * self.B[:, x[0]]\n",
    "                for t in range(1, T):\n",
    "                    # * is the element by element multiplication\n",
    "                    alpha[t] = alpha[t-1].dot(self.A) * self.B[:, x[t]]\n",
    "                P[n] = alpha[-1].sum() # probability of a sequence\n",
    "                alphas.append(alpha)\n",
    "\n",
    "                #### Compute beta[t]: backward algorithm\n",
    "                beta = np.zeros((T, self.M))\n",
    "                beta[-1] = 1\n",
    "                for t in range(T-2,-1,-1): # go backwards\n",
    "                    beta[t] = self.A.dot(self.B[:, x[t+1]] * beta[t+1])\n",
    "                betas.append(beta)\n",
    "\n",
    "            #compute cost\n",
    "            cost = np.sum(np.log(P))\n",
    "            costs.append(cost)\n",
    "\n",
    "            #### Reestimate pi, A and B\n",
    "            self.pi = np.sum((alphas[n][0] * betas[n][0])/P[n] for n in range(num_sequences))/num_sequences\n",
    "\n",
    "            denominator_1 = np.zeros((self.M,1))\n",
    "            denominator_2 = np.zeros((self.M,1))\n",
    "            a_num = 0\n",
    "            b_num = 0\n",
    "            for n in range(num_sequences):\n",
    "                x = X[n] # sequence\n",
    "                T = len(x) # T_n \n",
    "\n",
    "                denominator_1 += (alphas[n][:-1] * betas[n][:-1]).sum(axis=0, keepdims=True).T/P[n]\n",
    "                denominator_2 += (alphas[n] * betas[n]).sum(axis=0, keepdims=True).T/P[n]\n",
    "\n",
    "                # nth update for A numerator\n",
    "                a_num_n = np.zeros((self.M, self.M))\n",
    "                for i in range(self.M):\n",
    "                    for j in range(self.M):\n",
    "                        for t in range(T-1):\n",
    "                            a_num_n[i,j] += alphas[n][t,i]*self.A[i,j]*self.B[j,x[t+1]] * betas[n][t+1,j]\n",
    "                a_num += a_num_n/P[n]\n",
    "\n",
    "                # nth update for B numerator\n",
    "                b_num_n = np.zeros((self.M, vocab_size))\n",
    "                for i in range(self.M):\n",
    "                    for j in range(vocab_size):\n",
    "                        for t in range(T):\n",
    "                            if x[t] == j:\n",
    "                                b_num_n[i,j] += alphas[n][t,i] * betas[n][t,i]\n",
    "                b_num += b_num_n/P[n]\n",
    "\n",
    "            # update A and B\n",
    "            self.A = a_num/denominator_1\n",
    "            self.B = b_num/denominator_2\n",
    "\n",
    "            #self.alphas = alphas\n",
    "            #self.betas = betas\n",
    "            ## print & plot final estimates/costs\n",
    "            if verbose:\n",
    "                print('ITERATION:', it)\n",
    "                print(\"A:\", self.A)\n",
    "                print('check A:', self.A.sum(axis=1))\n",
    "                print(\"B:\", self.B)\n",
    "                print('check B:', self.B.sum(axis=1))\n",
    "                print(\"pi:\", self.pi)\n",
    "                print('check pi:', self.pi.sum())\n",
    "        self.alphas = alphas\n",
    "        self.betas = betas\n",
    "\n",
    "        # plot costs\n",
    "        #plt.plot(costs)\n",
    "        #plt.show()\n",
    "\n",
    "    def likelihood(self, x):\n",
    "        '''\n",
    "        Computes the probability (likelihood) of a sequence\n",
    "        by means of the forwards algorithm\n",
    "        '''\n",
    "        T = len(x) # T_n\n",
    "\n",
    "        #### Compute alpha[t]: forward algorithm\n",
    "        alpha = np.zeros((T, self.M))\n",
    "        alpha[0] = self.pi * self.B[:, x[0]]\n",
    "        for t in range(1, T):\n",
    "            # * is the element by element multiplication\n",
    "            alpha[t] = alpha[t-1].dot(self.A) * self.B[:, x[t]]\n",
    "        return alpha[-1].sum()\n",
    "\n",
    "    def likelihood_multi(self, X):\n",
    "        '''\n",
    "        Computes the probability (likelihood) for all the\n",
    "        observations (sequences)\n",
    "        '''\n",
    "        return np.array([self.likelihood(x) for x in X])\n",
    "\n",
    "    def log_likelihood_multi(self, X):\n",
    "        '''\n",
    "        Computes the log likelihood of all the observations\n",
    "        '''\n",
    "        return np.log(self.likelihood_multi(X))\n",
    "\n",
    "    def get_state_sequence(self, x):\n",
    "        '''\n",
    "        Computes the most probable set of hidden states given \n",
    "        observation sequence x using the Viterbi algorithm\n",
    "        '''\n",
    "        T = len(x)\n",
    "        delta = np.zeros((T, self.M))\n",
    "        psi = np.zeros((T, self.M))\n",
    "        delta[0] = self.pi * self.B[:, x[0]]\n",
    "        for t in range(1,T):\n",
    "            for j in range(self.M):\n",
    "                delta[t,j] = np.max(delta[t-1]*self.A[:,j])*self.B[j, x[t]]\n",
    "                psi[t,j] = np.argmax(delta[t-1]*self.A[:,j])\n",
    "\n",
    "        ### Backtrack\n",
    "        states = np.zeros(T, dtype=np.int32)\n",
    "        states[T-1] = np.argmax(delta[T-1])\n",
    "        for t in range(T-2,-1,-1):\n",
    "            states[t] = psi[t+1, states[t+1]]\n",
    "\n",
    "        return states"
   ]
  },
  {
   "cell_type": "markdown",
   "metadata": {},
   "source": [
    "Train the HMM in a dataset of sequences of coin flips with heads (`H`) or tails (`T`) generated with the following parameters:\n",
    "\n",
    "$$\n",
    "\\pi = (0.5,0.5).T\\\\\n",
    "A = \\begin{pmatrix}\n",
    "0.1 & 0.9 \\\\\n",
    "0.8 & 0.2 \n",
    "\\end{pmatrix}\\\\\n",
    "\n",
    "B = \\begin{pmatrix}\n",
    "0.6 & 0.4\\\\\n",
    "0.3 & 0.7\n",
    "\\end{pmatrix}\n",
    "$$\n",
    "\n",
    "The file is called `coin_data.txt` and can be found in \n",
    "\n",
    "https://github.com/lazyprogrammer/machine_learning_examples/blob/master/hmm_class/coin_data.txt"
   ]
  },
  {
   "cell_type": "code",
   "execution_count": 85,
   "metadata": {},
   "outputs": [],
   "source": [
    "def fit_coin():\n",
    "    '''\n",
    "    Create training set from coin_data.txt file\n",
    "    and fit a HMM with it\n",
    "    '''\n",
    "    X = list()\n",
    "    for line in open('coin_data.txt'):\n",
    "        x = [1 if elm == 'H' else 0 for elm in line.rstrip()]\n",
    "        X.append(x)\n",
    "\n",
    "    hmm = HMM(2)\n",
    "    hmm.fit(X,max_iter=100)\n",
    "    L = hmm.log_likelihood_multi(X).sum()\n",
    "\n",
    "    print(\"log likelihood after fitting:\", L)\n",
    "    \n",
    "    # set HMM to the actual values that generated the series\n",
    "    # of coin flips\n",
    "    hmm.pi = np.array([0.5, 0.5])\n",
    "    hmm.A = np.array([[0.1, 0.9], [0.8, 0.2]])\n",
    "    hmm.B = np.array([[0.6, 0.4], [0.3, 0.7]])\n",
    "    L = hmm.log_likelihood_multi(X).sum()\n",
    "    print(\"log likelihood of real generating model:\", L)\n",
    "\n",
    "    # try Viterbi on training set\n",
    "    print(\"best state sequence for \", X[0])\n",
    "    print(hmm.get_state_sequence(X[0]))"
   ]
  },
  {
   "cell_type": "code",
   "execution_count": 86,
   "metadata": {},
   "outputs": [
    {
     "name": "stdout",
     "output_type": "stream",
     "text": [
      "initial values: [0.5 0.5] [[0.7087962  0.2912038 ]\n",
      " [0.29152056 0.70847944]] [[0.62969057 0.37030943]\n",
      " [0.58883752 0.41116248]]\n",
      "it: 0\n",
      "it: 10\n"
     ]
    },
    {
     "name": "stderr",
     "output_type": "stream",
     "text": [
      "/tmp/ipykernel_1644/389656226.py:60: DeprecationWarning: Calling np.sum(generator) is deprecated, and in the future will give a different result. Use np.sum(np.fromiter(generator)) or the python sum builtin instead.\n",
      "  self.pi = np.sum((alphas[n][0] * betas[n][0])/P[n] for n in range(num_sequences))/num_sequences\n"
     ]
    },
    {
     "name": "stdout",
     "output_type": "stream",
     "text": [
      "it: 20\n",
      "it: 30\n",
      "it: 40\n",
      "it: 50\n",
      "it: 60\n",
      "it: 70\n",
      "it: 80\n",
      "it: 90\n",
      "ITERATION: 99\n",
      "A: [[0.70371831 0.29628169]\n",
      " [0.28697428 0.71302572]]\n",
      "check A: [1. 1.]\n",
      "B: [[0.54110179 0.45889821]\n",
      " [0.54024348 0.45975652]]\n",
      "check B: [1. 1.]\n",
      "pi: [0.51003807 0.48996193]\n",
      "check pi: 1.0000000000000002\n"
     ]
    },
    {
     "data": {
      "image/png": "[encoded data removed]",
      "text/plain": [
       "<Figure size 432x288 with 1 Axes>"
      ]
     },
     "metadata": {
      "needs_background": "light"
     },
     "output_type": "display_data"
    },
    {
     "name": "stdout",
     "output_type": "stream",
     "text": [
      "log likelihood after fitting: -1034.7539242965554\n",
      "log likelihood of real generating model: -1059.7229160265022\n",
      "best state sequence for  [0, 1, 0, 1, 0, 1, 1, 1, 0, 0, 0, 0, 0, 1, 0, 1, 0, 1, 0, 1, 0, 0, 1, 1, 1, 1, 0, 0, 0, 1]\n",
      "[0 1 0 1 0 1 0 1 0 1 0 1 0 1 0 1 0 1 0 1 0 1 0 1 0 1 0 1 0 1]\n"
     ]
    }
   ],
   "source": [
    "fit_coin()"
   ]
  },
  {
   "cell_type": "markdown",
   "metadata": {},
   "source": [
    "The problem with the above algorithms is *underflow*: after all, $\\alpha$ and $\\beta$ are small numbers ($<1$) and hence, for long sequences, the training algorithm will lead to zero for $\\alpha$ really soon, meaning that all multiplications will be zero from that point on. To solve this issue, we will do the following:\n",
    "\n",
    "- For the Viterbi algorithm we will use logs, since it only involve multiplications. Hence, we turn the multiplications into sums and avoid the underflow problem.\n",
    "\n",
    "- For the Baum-Welch algorithm, we will use scaling. For this, we will use a scale factor $c_t\\,, t=1,...,T$"
   ]
  },
  {
   "cell_type": "markdown",
   "metadata": {},
   "source": [
    "## Tensorization\n",
    "\n",
    "Trying to run the forward and backward algorithms in general for an arbitrary sequence of length 30 (such as the one here) leads to an out-of-memory situation. \n",
    "We will therefore substitute the value of the sequence at each timestep."
   ]
  },
  {
   "cell_type": "code",
   "execution_count": 12,
   "metadata": {},
   "outputs": [],
   "source": [
    "import numpy as np\n",
    "from typing import Union, Optional, List"
   ]
  },
  {
   "cell_type": "code",
   "execution_count": 13,
   "metadata": {},
   "outputs": [],
   "source": [
    "# create a valid random markov matrix\n",
    "def random_normalized(dim1, dim2):\n",
    "    \"\"\"\n",
    "    Creates a matrix of random numbers that are compatible with Markov\n",
    "    (namely, they rows sum up to 1)\n",
    "    \"\"\"\n",
    "    random_matrix = np.random.rand(dim1, dim2)\n",
    "    #divide by sum over rows to make rows add up to 1 (Markov matrix)\n",
    "    return random_matrix/random_matrix.sum(axis=1, keepdims=True)\n",
    "\n",
    "def load_data(data_path='./coin_data.txt'):\n",
    "    X = list()\n",
    "    for line in open(data_path):\n",
    "        x = [1 if elm == 'H' else 0 for elm in line.rstrip()]\n",
    "        X.append(x)\n",
    "    return np.array(X)\n",
    "\n",
    "def generate_initial_parameters(vocab_size,\n",
    "                                num_hidden_states,\n",
    "                                random_seed=True):\n",
    "    if random_seed:\n",
    "        np.random.seed(123)\n",
    "\n",
    "    # initialize pi, A and B\n",
    "    pi = (np.ones(num_hidden_states)/num_hidden_states).reshape(num_hidden_states,1) # uniform distirbution for pi\n",
    "    A = random_normalized(num_hidden_states,num_hidden_states)\n",
    "    B = random_normalized(num_hidden_states, vocab_size)\n",
    "\n",
    "    return pi, A, B"
   ]
  },
  {
   "cell_type": "code",
   "execution_count": 14,
   "metadata": {},
   "outputs": [
    {
     "name": "stdout",
     "output_type": "stream",
     "text": [
      "(50, 30)\n"
     ]
    }
   ],
   "source": [
    "X_data = load_data()\n",
    "print(X_data.shape) # 50 samples of 30 timesteps each\n",
    "VOCAB_SIZE = max(max(x) for x in X_data) + 1 # 2 different observable states\n",
    "NUM_SEQS, SEQ_LENGTH = X_data.shape\n",
    "M_ = 2 # assume 2-dim hidden space"
   ]
  },
  {
   "cell_type": "markdown",
   "metadata": {},
   "source": [
    "### Forward algotihm for fixed input sequence\n",
    "\n",
    "Note for example that $$ \\alpha(t=1, j) = \\pi_j B(j, x_1)\\,,$$ where $x_1$ is just the observation associated to the first timestep. We will substitute explicitly this observation. Now, our dataset does not contain only one observation, but $N = 50$ of them. To vectorize everything, we will substitute the $N$ samples of $x_1$ observed.\n",
    "\n",
    "This logic will be applied to the recursive algorithm as well."
   ]
  },
  {
   "cell_type": "code",
   "execution_count": 15,
   "metadata": {},
   "outputs": [],
   "source": [
    "def alpha_initial(input_sequences: np.ndarray, \n",
    "                    pi: Union[List, np.ndarray], \n",
    "                    B: Union[List, np.ndarray]) -> np.ndarray:\n",
    "    '''\n",
    "    Computes the value of alpha associated to initial time t=1\n",
    "    \n",
    "    Parameters\n",
    "        input_sequences: np.ndarray\n",
    "            Input set of sequences, i.e. the training data\n",
    "        pi: Union[List, np.ndarray]\n",
    "            Initial vector of probabilities (i.e. p(z_1)) for each possible state of z_1\n",
    "        B:  Union[List, np.ndarray]\n",
    "            time-independent matrix of transition probabiltiies p(x_t|z_t) for each x- and z-states\n",
    "\n",
    "    Return\n",
    "        np.ndarray: initial value of alpha (namely, alpha_1)\n",
    "    '''\n",
    "    assert np.isclose(np.sum(pi), 1), \"the sum of probabilities of initial latent states must add up to 1\"\n",
    "    assert (np.isclose(B.sum(axis=1), 1)).all(), \"the total probability of a given observed state must be 1\"\n",
    "    # element-wise product with B evaluated on x(t=1) for all the rows (all the samples) at once\n",
    "    # alpha_initial will end up having dimension M x N, where N is the total number of samples\n",
    "    return np.multiply(pi, B[:,X_data[:,0]])\n",
    "\n",
    "def beta_initial(A_dim: int, num_sequences: int) -> np.ndarray:\n",
    "    '''\n",
    "    Computes the value of beta associated to initial time t=T\n",
    "\n",
    "    Parameters\n",
    "        A_dim: int\n",
    "            dimension of matrix A (namely, M in the above notation)\n",
    "\n",
    "    Return\n",
    "        np.ndarray: initial value of beta (namely, beta_1)\n",
    "    '''\n",
    "    return np.ones(shape=(A_dim, num_sequences)) # column vector of ones (one component per each z-state)\n",
    "\n",
    "\n",
    "def forward_algo_input_fixed(\n",
    "                    input_sequences: np.ndarray, \n",
    "                    A: Union[List, np.ndarray], \n",
    "                    B: Union[List, np.ndarray], \n",
    "                    alpha_ini: np.ndarray\n",
    "                    ) -> List[np.ndarray]:\n",
    "\n",
    "    ''' \n",
    "    This is the forward algorithm as implemented in notebook forward_algo.ipynb\n",
    "    but with the input sequences evaluated whenever possible to make the problem\n",
    "    computationally light\n",
    "\n",
    "    Parameters\n",
    "        input_sequences: np.ndarray\n",
    "            Input set of sequences, i.e. the training data\n",
    "        A:  Union[List, np.ndarray]\n",
    "            Initial vector of probabilities (i.e. p(z_1)) for each possible state of z_1\n",
    "        B:  Union[List, np.ndarray]\n",
    "            time-independent matrix of transition probabiltiies p(x_t|z_t) for each x- and z-states\n",
    "        alpha_ini: np,ndarray\n",
    "            The value of alpha(t=1, z_1)\n",
    "    Return\n",
    "        List[np.ndarray]: list of alphas of the form \n",
    "        [alpha(t=1, z_1),..., alpha(t=T-1, z_{T-1}), alpha(t=T, z_T)]\n",
    "    '''\n",
    "    sequence_length = input_sequences.shape[1]\n",
    "    A = np.array(A)\n",
    "    B = np.array(B)\n",
    "    assert isinstance(sequence_length, int), 'the length of the sequence must be an integer number'\n",
    "    assert alpha_ini.shape[0] == A.shape[0], 'the length of the first axis of alpha_ini must be the rows of A'\n",
    "\n",
    "    alphas_list = [alpha_ini] \n",
    "    for t_ in range(1,sequence_length):\n",
    "        # np.einsum('ij,il->jl', A, alphas_list[t_-1]) gives the first part of the algorithm\n",
    "        # factor1_jt = sum_i A_ij alpha(i,t) -> shape M x N\n",
    "        # The second part of the formula np.multiply(B[:, input_sequences[:,t_]], factor1)\n",
    "        # gives B(j, x_t) * factor1_jt\n",
    "        alphas_list.append(np.multiply(B[:, input_sequences[:,t_]], \n",
    "                                        np.einsum('ij,il->jl', A, alphas_list[t_-1])))\n",
    "    #alpha list has shape T x M x N\n",
    "    return np.array(alphas_list)\n",
    "\n",
    "def backward_algo_input_fixed(input_sequences: np.ndarray, \n",
    "                    A: Union[List, np.ndarray], \n",
    "                    B: Union[List, np.ndarray], \n",
    "                    beta_ini: np.ndarray\n",
    "                    ) -> List[np.ndarray]:\n",
    "\n",
    "    '''\n",
    "    Computes a set of alphas following the (recursive) forward algorithm\n",
    "\n",
    "    Parameters\n",
    "        input_sequences: np.ndarray\n",
    "            Input set of sequences, i.e. the training data\n",
    "        A:  Union[List, np.ndarray]\n",
    "            Initial vector of probabilities (i.e. p(z_1)) for each possible state of z_1\n",
    "        B:  Union[List, np.ndarray]\n",
    "            time-independent matrix of transition probabiltiies p(x_t|z_t) for each x- and z-states\n",
    "        alpha_ini: np,ndarray\n",
    "            The value of alpha(t=1, z_1)\n",
    "    Return\n",
    "        List[np.ndarray]: list of betas of the form \n",
    "        [beta(t=1, z_1), ..., beta(t=T-1, z_{T-1}), beta(t=T, z_T)]\n",
    "    '''\n",
    "    sequence_length = input_sequences.shape[1]\n",
    "    A = np.array(A)\n",
    "    B = np.array(B)\n",
    "    assert isinstance(sequence_length, int), 'the length of the sequence must be an integer number'\n",
    "    assert beta_ini.shape[0] == A.shape[0], 'the length of the first axis of beta_ini must be the rows of A'\n",
    "\n",
    "    # initialize betas list\n",
    "    betas_list = [0]*sequence_length\n",
    "    betas_list[-1] = beta_ini #beta_ini will be a M x N matrix of 1s\n",
    "    for t_ in reversed(range(1,sequence_length)):\n",
    "        # note that we don't use t+1 when indexing beta because \n",
    "        # python starts counting indexes from 0: reversed(range(0,sequence_length))\n",
    "        # goes from sequence_length-1 to 0. The last index of betas_list\n",
    "        # is also sequence_length-1\n",
    "        exps1 = np.einsum('ij,js,jl->isl', A, B[:, input_sequences[:,t_]], betas_list[t_])\n",
    "        # force (column of B) = (column of betas_list[t_]) = x_{t+1}  \n",
    "        # i.e pick diagonal for first and last indices: s = l above, without summing over s!\n",
    "        betas_list[t_-1] = np.diagonal(exps1, axis1=len(exps1.shape)-2, axis2=len(exps1.shape)-1)\n",
    "        # note that index associated to z is first index of beta\n",
    "        # (this is so also for beta_ini)\n",
    "    return np.array(betas_list)\n",
    "\n",
    "def probability_fixed_input_sequence(alpha: np.ndarray):\n",
    "    '''\n",
    "    Computes the probability of a fixed sequence of x states given an alpha \n",
    "    (this alpha is suppossed to correspond to alpha(t=T, z_T))\n",
    "\n",
    "    Parameters:\n",
    "        alpha: np.ndarray\n",
    "            A tensor with dimensions (M, K, K,...,K)\n",
    "    Returns:\n",
    "        np.ndarray:\n",
    "            A tensor with dimension (K, K,...,K)\n",
    "    '''\n",
    "    # sum alpha along the first direction (that would correspond to z_T)\n",
    "    # returns probability for arbitrary set of x\n",
    "    # (note the ordering: ijk... will correspond to x_T, x_{T-1}, x_{T-2},...)\n",
    "    #return alpha.sum(axis=0)\n",
    "    return np.einsum('i...->...', alpha)"
   ]
  },
  {
   "cell_type": "code",
   "execution_count": 16,
   "metadata": {},
   "outputs": [],
   "source": [
    "pi_, A_, B_ = generate_initial_parameters(vocab_size=VOCAB_SIZE, num_hidden_states=M_)"
   ]
  },
  {
   "cell_type": "markdown",
   "metadata": {},
   "source": [
    "**Example: Forward algorithm**\n",
    "\n",
    "For a given sequence (given row) \n",
    "\n",
    "$$B(i,x_2) \\rightarrow M \\times 1$$\n",
    "$$ \\alpha(t=1,i) \\rightarrow M \\times 1$$\n",
    "$$ A(j,i) \\rightarrow M \\times M$$\n",
    "Recall that:\n",
    "$$\\alpha(t+1, i) = B(i, x_{t+1}) \\sum_j^M A(j,i) \\alpha(t, j)$$"
   ]
  },
  {
   "cell_type": "code",
   "execution_count": 7,
   "metadata": {},
   "outputs": [],
   "source": [
    "alpha_ini = alpha_initial(X_data, pi_, B_)"
   ]
  },
  {
   "cell_type": "code",
   "execution_count": 8,
   "metadata": {},
   "outputs": [
    {
     "data": {
      "text/plain": [
       "0.17681246697497588"
      ]
     },
     "execution_count": 8,
     "metadata": {},
     "output_type": "execute_result"
    }
   ],
   "source": [
    "# Example: \n",
    "# third sequence (n=3) only for z=2 (i.e. alpha(t=2, z=2))\n",
    "assd=0\n",
    "for i in range(2):\n",
    "    assd += A_[i,1]*alpha_ini[i,2] #z, t and n start from 0!\n",
    "\n",
    "B_[1, X_data[2,1]]*assd"
   ]
  },
  {
   "cell_type": "code",
   "execution_count": 9,
   "metadata": {},
   "outputs": [
    {
     "data": {
      "text/plain": [
       "0.17681246697497588"
      ]
     },
     "execution_count": 9,
     "metadata": {},
     "output_type": "execute_result"
    }
   ],
   "source": [
    "# compute the full list of alphas for all N\n",
    "alpha_list = forward_algo_input_fixed(X_data, A_, B_, alpha_ini)\n",
    "alpha_list[1][1,2] #alpha for t=2, z=2 and n=3"
   ]
  },
  {
   "cell_type": "code",
   "execution_count": 10,
   "metadata": {},
   "outputs": [],
   "source": [
    "assert B_[1, X_data[2,1]]*assd == alpha_list[1][1,2] #alpha for t=2, z=2 and n=3"
   ]
  },
  {
   "cell_type": "code",
   "execution_count": 11,
   "metadata": {},
   "outputs": [],
   "source": [
    "assert (probability_fixed_input_sequence(alpha_list[-1]) > 0).all()\n",
    "assert (probability_fixed_input_sequence(alpha_list[-1]) < 1).all()"
   ]
  },
  {
   "cell_type": "code",
   "execution_count": 12,
   "metadata": {},
   "outputs": [],
   "source": [
    "prob = probability_fixed_input_sequence(alpha_list[-1])"
   ]
  },
  {
   "cell_type": "markdown",
   "metadata": {},
   "source": [
    "**Example: Backward algorithm**\n",
    "\n",
    "For a given sequence \n",
    "\n",
    "$$B(i,x_{29}) \\rightarrow M \\times 1$$\n",
    "$$ \\beta(t=T,i) \\rightarrow M \\times 1$$\n",
    "$$ A(j,i) \\rightarrow M \\times M$$\n",
    "Recall that:\n",
    "$$\\beta(t, i) = \\sum_j^M A(i,j)B(j, x_{t+1})\\beta(t+1, j)$$"
   ]
  },
  {
   "cell_type": "code",
   "execution_count": 13,
   "metadata": {},
   "outputs": [
    {
     "data": {
      "text/plain": [
       "(2, 50)"
      ]
     },
     "execution_count": 13,
     "metadata": {},
     "output_type": "execute_result"
    }
   ],
   "source": [
    "beta_ini = beta_initial(M_, NUM_SEQS)\n",
    "beta_ini.shape"
   ]
  },
  {
   "cell_type": "code",
   "execution_count": 14,
   "metadata": {},
   "outputs": [
    {
     "data": {
      "text/plain": [
       "0.6007470210010455"
      ]
     },
     "execution_count": 14,
     "metadata": {},
     "output_type": "execute_result"
    }
   ],
   "source": [
    "# z=2, n=3, t=29 from  beta_ini (recall that beta_ini corresponds to t=T=30)\n",
    "basse = 0\n",
    "for j in range(M_):\n",
    "    basse += A_[1,j]*B_[j, X_data[2,-1]]*beta_ini[j, 2]\n",
    "basse"
   ]
  },
  {
   "cell_type": "code",
   "execution_count": 15,
   "metadata": {},
   "outputs": [
    {
     "data": {
      "text/plain": [
       "0.6007470210010455"
      ]
     },
     "execution_count": 15,
     "metadata": {},
     "output_type": "execute_result"
    }
   ],
   "source": [
    "beta_list = backward_algo_input_fixed(X_data, A_, B_, beta_ini)\n",
    "beta_list[-2][1,2] # dimension T x M x N"
   ]
  },
  {
   "cell_type": "code",
   "execution_count": 16,
   "metadata": {},
   "outputs": [],
   "source": [
    "assert basse == beta_list[-2][1,2]"
   ]
  },
  {
   "cell_type": "markdown",
   "metadata": {},
   "source": [
    "## Update $\\pi$ \n"
   ]
  },
  {
   "cell_type": "code",
   "execution_count": 324,
   "metadata": {},
   "outputs": [],
   "source": [
    "def update_pi(alpha_list: np.ndarray, beta_list: np.ndarray) -> np.ndarray:\n",
    "    '''\n",
    "    Formula to update \\pi according to Baum Welch\n",
    "\n",
    "    Three equivalent ways\n",
    "\n",
    "    Method 1: \n",
    "        np.multiply(beta_list[0]/prob,alpha_list[0]).mean(axis=1)\n",
    "        \n",
    "    Method 2:\n",
    "        llo = 0\n",
    "        for n in range(NUM_SEQS):\n",
    "            llo += beta_list[0][:,n] * alpha_list[0][:, n]/prob[n]\n",
    "        llo/NUM_SEQS\n",
    "\n",
    "    Method 3:\n",
    "        ss = np.diag(np.einsum('ij,lj', beta_list[0]/prob, alpha_list[0]))\n",
    "        ss/NUM_SEQS\n",
    "\n",
    "    Parameters:\n",
    "        alpha_list: np.ndarray\n",
    "            A tensor with dimensions (T, M, N)\n",
    "        beta_list: np.ndarray\n",
    "            A tensor with dimensions (T, M, N)\n",
    "    Returns:\n",
    "        np.ndarray:\n",
    "            A tensor with dimension (M, 1)\n",
    "    '''\n",
    "    prob = probability_fixed_input_sequence(alpha_list[-1])\n",
    "    return (np.multiply(beta_list[0]/prob, alpha_list[0]).mean(axis=1)).reshape(beta_list.shape[1],1)"
   ]
  },
  {
   "cell_type": "code",
   "execution_count": 237,
   "metadata": {},
   "outputs": [
    {
     "name": "stdout",
     "output_type": "stream",
     "text": [
      "initial values: [0.5 0.5] [[0.7087962  0.2912038 ]\n",
      " [0.29152056 0.70847944]] [[0.62969057 0.37030943]\n",
      " [0.58883752 0.41116248]]\n",
      "it: 0\n",
      "NUMERATOR [[503.76144211 211.15307487]\n",
      " [211.3125875  523.77289552]]\n",
      "DENOMINATOR [[714.91451698]\n",
      " [735.08548302]]\n",
      "ITERATION: 0\n",
      "A: [[0.7046457  0.2953543 ]\n",
      " [0.28746669 0.71253331]]\n",
      "check A: [1. 1.]\n",
      "B: [[0.56095853 0.43904147]\n",
      " [0.52091592 0.47908408]]\n",
      "check B: [1. 1.]\n",
      "pi: [0.49581661 0.50418339]\n",
      "check pi: 1.0\n"
     ]
    },
    {
     "name": "stderr",
     "output_type": "stream",
     "text": [
      "/tmp/ipykernel_2321/3462682197.py:60: DeprecationWarning: Calling np.sum(generator) is deprecated, and in the future will give a different result. Use np.sum(np.fromiter(generator)) or the python sum builtin instead.\n",
      "  self.pi = np.sum((alphas[n][0] * betas[n][0])/P[n] for n in range(num_sequences))/num_sequences\n"
     ]
    },
    {
     "ename": "NameError",
     "evalue": "name 'plt' is not defined",
     "output_type": "error",
     "traceback": [
      "\u001b[0;31m---------------------------------------------------------------------------\u001b[0m",
      "\u001b[0;31mNameError\u001b[0m                                 Traceback (most recent call last)",
      "\u001b[0;32m/tmp/ipykernel_2321/3172505148.py\u001b[0m in \u001b[0;36m<module>\u001b[0;34m\u001b[0m\n\u001b[1;32m      3\u001b[0m \u001b[0mhmm\u001b[0m\u001b[0;34m.\u001b[0m\u001b[0mA\u001b[0m \u001b[0;34m=\u001b[0m \u001b[0mA_\u001b[0m\u001b[0;34m\u001b[0m\u001b[0;34m\u001b[0m\u001b[0m\n\u001b[1;32m      4\u001b[0m \u001b[0mhmm\u001b[0m\u001b[0;34m.\u001b[0m\u001b[0mB\u001b[0m \u001b[0;34m=\u001b[0m \u001b[0mB_\u001b[0m\u001b[0;34m\u001b[0m\u001b[0;34m\u001b[0m\u001b[0m\n\u001b[0;32m----> 5\u001b[0;31m \u001b[0mhmm\u001b[0m\u001b[0;34m.\u001b[0m\u001b[0mfit\u001b[0m\u001b[0;34m(\u001b[0m\u001b[0mX_data\u001b[0m\u001b[0;34m,\u001b[0m \u001b[0mmax_iter\u001b[0m\u001b[0;34m=\u001b[0m\u001b[0;36m1\u001b[0m\u001b[0;34m)\u001b[0m\u001b[0;34m\u001b[0m\u001b[0;34m\u001b[0m\u001b[0m\n\u001b[0m",
      "\u001b[0;32m/tmp/ipykernel_2321/3462682197.py\u001b[0m in \u001b[0;36mfit\u001b[0;34m(self, X, max_iter)\u001b[0m\n\u001b[1;32m    107\u001b[0m \u001b[0;34m\u001b[0m\u001b[0m\n\u001b[1;32m    108\u001b[0m         \u001b[0;31m# plot costs\u001b[0m\u001b[0;34m\u001b[0m\u001b[0;34m\u001b[0m\u001b[0;34m\u001b[0m\u001b[0m\n\u001b[0;32m--> 109\u001b[0;31m         \u001b[0mplt\u001b[0m\u001b[0;34m.\u001b[0m\u001b[0mplot\u001b[0m\u001b[0;34m(\u001b[0m\u001b[0mcosts\u001b[0m\u001b[0;34m)\u001b[0m\u001b[0;34m\u001b[0m\u001b[0;34m\u001b[0m\u001b[0m\n\u001b[0m\u001b[1;32m    110\u001b[0m         \u001b[0mplt\u001b[0m\u001b[0;34m.\u001b[0m\u001b[0mshow\u001b[0m\u001b[0;34m(\u001b[0m\u001b[0;34m)\u001b[0m\u001b[0;34m\u001b[0m\u001b[0;34m\u001b[0m\u001b[0m\n\u001b[1;32m    111\u001b[0m \u001b[0;34m\u001b[0m\u001b[0m\n",
      "\u001b[0;31mNameError\u001b[0m: name 'plt' is not defined"
     ]
    }
   ],
   "source": [
    "hmm = HMM(2)\n",
    "hmm.pi = pi_\n",
    "hmm.A = A_\n",
    "hmm.B = B_\n",
    "hmm.fit(X_data, max_iter=1)"
   ]
  },
  {
   "cell_type": "markdown",
   "metadata": {},
   "source": [
    "## Update A\n",
    "\n",
    "$$ \n",
    "\n",
    "A_{ij} = \\frac{\\sum_{n=1}^N \\frac{1}{P_n} \\sum_{t=1}^{T_n-1}\\alpha_n(t,i)A_{ij}B_{j, x_n(t+1)}\\beta_n(t+1,j)}{\\sum_{n=1}^N \\frac{1}{P_n} \\sum_{t=1}^{T_n-1}\\alpha_n(t,i)\\beta_n(t,i)}\\,,\\\\\n",
    "\n",
    "$$"
   ]
  },
  {
   "cell_type": "code",
   "execution_count": 341,
   "metadata": {},
   "outputs": [],
   "source": [
    "def update_A(input_sequences: np.ndarray, \n",
    "            alpha_list: np.ndarray, \n",
    "            beta_list: np.ndarray,\n",
    "            A_old: np.ndarray,\n",
    "            B_old: np.ndarray) -> np.ndarray:\n",
    "\n",
    "    prob = probability_fixed_input_sequence(alpha_list[-1])\n",
    "\n",
    "    # be careful with reshape! It does not move axis directly!\n",
    "    # use np.moveaxis to turn shape (a,b,c) into (b,c,a), for example\n",
    "    # turn dimension of B_old[:, input_sequences[:,1:]] into shape of beta_list[1:,:,:]\n",
    "    interm_ = np.moveaxis(B_old[:, input_sequences[:,1:]],-1,0)\n",
    "    # note that in the formula B(j,x_{n,t+1}) involves th eexact same indices as\n",
    "    # beta_n(t,j), so we can multiply element by element\n",
    "    # also divide by P_n straight away (see formula)\n",
    "    beta_B = (interm_*beta_list[1:,:,:]/prob)\n",
    "\n",
    "    # We use the X[1:,:,:] in the indices to denote that what enters is t+1\n",
    "\n",
    "    # A_{ij} does not involve t, n, so we move it away from sums\n",
    "    # sum in t goes from t=1 to T-1. This involves using alpha_list[:-1,:,:]\n",
    "    # (t+1) goes from 1 to T, that explain the indices of B and beta above\n",
    "    # alpha coes with index z=i and beta_B with z=j, that is why those indices\n",
    "    # remain free to match with A_old{ij}\n",
    "    numerator = A_old*np.einsum('ijk,irk->jr', alpha_list[:-1,:,:], beta_B) # dim MxM\n",
    "    '''\n",
    "    Another way:\n",
    "        numerator = np.einsum('ijk,lm,nki,irk->jlmnr', alpha_list[:-1,:,:], A_, B_[:, input_sequences[:,1:]], beta_list[1:,:,:]/prob)\n",
    "        numerator = np.diagonal(numerator, axis1=0, axis2=1)\n",
    "        numerator = np.diagonal(numerator, axis1=0, axis2=1)\n",
    "        numerator = np.diagonal(numerator, axis1=0, axis2=len(numerator.shape)-1)\n",
    "    '''\n",
    "    denominator = np.diag(np.einsum('ikj,isj->ks', alpha_list[:-1,:,:], beta_list[:-1,:,:]/prob)) # dim M \n",
    "\n",
    "    # see formula: we want numerator[i,j]/denominator[i]\n",
    "    #reshape denominator to acquire dimension Mx1\n",
    "    return numerator/denominator.reshape(denominator.shape[0],1)"
   ]
  },
  {
   "cell_type": "code",
   "execution_count": 275,
   "metadata": {},
   "outputs": [
    {
     "data": {
      "text/plain": [
       "array([[0.7046457 , 0.2953543 ],\n",
       "       [0.28746669, 0.71253331]])"
      ]
     },
     "execution_count": 275,
     "metadata": {},
     "output_type": "execute_result"
    }
   ],
   "source": [
    "update_A(X_data, alpha_list, beta_list)"
   ]
  },
  {
   "cell_type": "markdown",
   "metadata": {},
   "source": [
    "## Update B\n",
    "\n",
    "$$\n",
    "B_{jk} = \\frac{\\sum_{n=1}^N \\frac{1}{P_n} \\sum_{t=1}^{T_n}\\alpha_n(t,j)\\beta_n(t,j) \\mathbb{1}(x_n(t)=k)}{\\sum_{n=1}^N \\frac{1}{P_n} \\sum_{t=1}^{T_n}\\alpha_n(t,j)\\beta_n(t,j)}\\,,\n",
    "$$"
   ]
  },
  {
   "cell_type": "code",
   "execution_count": 342,
   "metadata": {},
   "outputs": [],
   "source": [
    "def update_B(input_sequences: np.ndarray, \n",
    "            alpha_list: np.ndarray, \n",
    "            beta_list: np.ndarray) -> np.ndarray:\n",
    "\n",
    "    prob = probability_fixed_input_sequence(alpha_list[-1])\n",
    "\n",
    "    vocab_size = max(max(x) for x in input_sequences) + 1\n",
    "    # define delta-type object, that is only 1 whenever k equals x_n(t)\n",
    "    mask_u = list()\n",
    "    for k_ in range(vocab_size):\n",
    "        # place 1. if condition is fullfilled, 0. otherwise\n",
    "        mask_u.append(np.where(input_sequences == k_, 1., 0.))\n",
    "    mask_u = np.array(mask_u) # dim KxNxT\n",
    "\n",
    "    # indices of alpha_list and beta_list coincide, so we can multiply elemen by element\n",
    "    unmasked_num = (alpha_list*beta_list/prob)\n",
    "    # mask numerator with mask_u\n",
    "    numerator = np.einsum('ijk,lki->jl', unmasked_num, mask_u) # dim MxK\n",
    "    #denominator is just the unmasked numerator summed over t and n\n",
    "    denominator = np.einsum('ijk->j', unmasked_num) # dim M \n",
    "\n",
    "    # see formula: we want numerator[j,k]/denominator[j]\n",
    "    #reshape denominator to acquire dimension Mx1\n",
    "    return numerator/denominator.reshape(denominator.shape[0],1)"
   ]
  },
  {
   "cell_type": "code",
   "execution_count": 311,
   "metadata": {},
   "outputs": [
    {
     "data": {
      "text/plain": [
       "array([[0.56095853, 0.43904147],\n",
       "       [0.52091592, 0.47908408]])"
      ]
     },
     "execution_count": 311,
     "metadata": {},
     "output_type": "execute_result"
    }
   ],
   "source": [
    "update_B(X_data, alpha_list, beta_list)"
   ]
  },
  {
   "cell_type": "markdown",
   "metadata": {},
   "source": [
    "## Tensorized Viterbi\n",
    "\n",
    "$$ \\delta(t=1, j) = \\pi(j) B(j,x_1)$$\n",
    "\n",
    "$$ \\delta(t, j) = \\text{max}_{i\\in \\{1,...,M\\}} \\left[\\delta(t-1,i) A(i,j)\\right] B(j, x_t)\\,, \\hspace{1cm} j=1,...,M $$\n",
    "\n",
    "$$p^* = \\text{max}_{i\\in \\{1,...,M\\}} \\delta (t=T, j) $$"
   ]
  },
  {
   "cell_type": "code",
   "execution_count": 23,
   "metadata": {},
   "outputs": [
    {
     "data": {
      "text/plain": [
       "(2, 50)"
      ]
     },
     "execution_count": 23,
     "metadata": {},
     "output_type": "execute_result"
    }
   ],
   "source": [
    "delta_init = np.multiply(pi_, B_[:, X_data[:,0]])\n",
    "delta_init.shape # M x N"
   ]
  },
  {
   "cell_type": "code",
   "execution_count": 104,
   "metadata": {},
   "outputs": [],
   "source": [
    "ss = np.einsum('ij,kl ->ijkl', A_, delta_init)\n",
    "ssd = np.diagonal(ss, axis1=0, axis2=2) \n",
    "ssdm = np.max(ssd, axis=2)"
   ]
  },
  {
   "cell_type": "code",
   "execution_count": 111,
   "metadata": {},
   "outputs": [
    {
     "data": {
      "text/plain": [
       "(2, 50)"
      ]
     },
     "execution_count": 111,
     "metadata": {},
     "output_type": "execute_result"
    }
   ],
   "source": [
    "np.argmax(ssd, axis=2).shape"
   ]
  },
  {
   "cell_type": "code",
   "execution_count": null,
   "metadata": {},
   "outputs": [],
   "source": [
    "### Backtrack\n",
    "states = np.zeros(T, dtype=np.int32)\n",
    "states[T-1] = np.argmax(delta[T-1])\n",
    "for t in range(T-2,-1,-1):\n",
    "    states[t] = psi[t+1, states[t+1]]"
   ]
  },
  {
   "cell_type": "code",
   "execution_count": 112,
   "metadata": {},
   "outputs": [
    {
     "data": {
      "text/plain": [
       "(2, 50)"
      ]
     },
     "execution_count": 112,
     "metadata": {},
     "output_type": "execute_result"
    }
   ],
   "source": [
    "ssdm.shape"
   ]
  },
  {
   "cell_type": "code",
   "execution_count": 109,
   "metadata": {},
   "outputs": [
    {
     "data": {
      "text/plain": [
       "(2, 50)"
      ]
     },
     "execution_count": 109,
     "metadata": {},
     "output_type": "execute_result"
    }
   ],
   "source": [
    "(ssdm * B_[:, X_data[:, 1]]).shape\n"
   ]
  },
  {
   "cell_type": "code",
   "execution_count": 96,
   "metadata": {},
   "outputs": [
    {
     "name": "stdout",
     "output_type": "stream",
     "text": [
      "[0.13123696 0.05391776]\n",
      "[0.05993116 0.14565008]\n"
     ]
    }
   ],
   "source": [
    "print(ssd[:,1,0])\n",
    "print(ssd[:,1,1])"
   ]
  },
  {
   "cell_type": "code",
   "execution_count": null,
   "metadata": {},
   "outputs": [],
   "source": [
    "delta_1 = np.multiply(delta_init, )"
   ]
  },
  {
   "cell_type": "code",
   "execution_count": 244,
   "metadata": {},
   "outputs": [],
   "source": [
    "def viterbi(input_sequences: np.ndarray, \n",
    "            pi: np.ndarray,\n",
    "            A: np.ndarray,\n",
    "            B: np.ndarray) -> np.ndarray:\n",
    "\n",
    "    sequence_length = input_sequences.shape[1]\n",
    "    A = np.array(A)\n",
    "    B = np.array(B)\n",
    "    pi = np.array(pi).reshape(B.shape[0], 1)\n",
    "\n",
    "    # define initial delta\n",
    "    delta_ini = np.multiply(pi, B[:, input_sequences[:, 0]]) # M x N\n",
    "\n",
    "    deltas_list = [delta_ini]\n",
    "    # initial psi = 0 with dim MxN\n",
    "    psis_list = [np.zeros(shape=(B.shape[0], input_sequences.shape[0]))] \n",
    "    for t_ in range(1,sequence_length):\n",
    "        # compute A(i,j)*delta(t-1, i) (no summation!) by first getting all indices\n",
    "        # and then picking the appropriate diagonal (axis=0 (i) with axis=2 (k))\n",
    "        extend_elmnt_prod = np.einsum('ij,kl->ijkl', A_, deltas_list[t_-1])\n",
    "        elmnt_prod = np.diagonal(extend_elmnt_prod, axis1=0, axis2=2) # M(j) x N x M(i)\n",
    "        # get maximum in the direction of i (axis=2)\n",
    "        max_elmnt_prod = np.max(elmnt_prod, axis=2) # M(j) x N\n",
    "        # multiply by B[:, input_sequences[:, t]] (also with dim = M x N)\n",
    "        # and append\n",
    "        deltas_list.append(np.multiply(max_elmnt_prod, \n",
    "                    B[:, input_sequences[:, t_]])) # element appended has dim= M x N\n",
    "        # append psi[t,j]\n",
    "        psis_list.append(np.argmax(elmnt_prod, axis=2)) # M(j) x N\n",
    "    return deltas_list, psis_list\n",
    "    ### Backtracking algorithm\n",
    "    optim_states = np.zeros_like(input_sequences) # N x T\n",
    "    #[np.zeros(shape=(1,input_sequences.shape[0]))]*sequence_length\n",
    "    #optim_states[-1] = np.argmax(deltas_list[-1], axis=0) # argmax(delta(T)) has dim = N\n",
    "    optim_states[:,-1] = np.argmax(deltas_list[-1], axis=0) # argmax(delta(T)) has dim = N\n",
    "    #return np.array(psis_list), optim_states\n",
    "    # go barckards\n",
    "    for t_ in reversed(range(1,sequence_length)):\n",
    "        # preserve time direction\n",
    "        # first compute general tensor with all indices\n",
    "        # and then pick diagonal: so for example, for t_=29\n",
    "        #you get np.array(psis_list)[29, optim_states[i,29], i] for i=0,...,N-1\n",
    "        optim_states[:,t_-1] = np.diagonal(np.array(psis_list)[t_, \n",
    "                                                    optim_states[:, t_], :]) # diag of N x N matrix\n",
    "\n",
    "    return np.array(psis_list), optim_states"
   ]
  },
  {
   "cell_type": "code",
   "execution_count": 277,
   "metadata": {},
   "outputs": [],
   "source": [
    "delta_ini = np.multiply(pi_, B_[:, X_data[:, 0]]) # M x N\n",
    "deltas_list = [delta_ini]\n",
    "extend_elmnt_prod = np.einsum('ij,kl->ijkl', A_, deltas_list[0])\n",
    "# A(i,j)delta(0,i)\n",
    "elmnt_prod = np.diagonal(extend_elmnt_prod, axis1=0, axis2=2)\n",
    "max_elmnt_prod = np.max(elmnt_prod, axis=2)\n",
    "argmax_elmnt_prod = np.argmax(elmnt_prod, axis=2)"
   ]
  },
  {
   "cell_type": "code",
   "execution_count": 283,
   "metadata": {},
   "outputs": [
    {
     "data": {
      "text/plain": [
       "array([0, 0, 0, 0, 0, 0, 0, 0, 0, 0])"
      ]
     },
     "execution_count": 283,
     "metadata": {},
     "output_type": "execute_result"
    }
   ],
   "source": [
    "argmax_elmnt_prod[0, :10]"
   ]
  },
  {
   "cell_type": "code",
   "execution_count": 284,
   "metadata": {},
   "outputs": [
    {
     "data": {
      "text/plain": [
       "array([[0.22316114, 0.08582912],\n",
       "       [0.13123696, 0.05993116],\n",
       "       [0.22316114, 0.08582912],\n",
       "       [0.22316114, 0.08582912],\n",
       "       [0.13123696, 0.05993116],\n",
       "       [0.22316114, 0.08582912],\n",
       "       [0.22316114, 0.08582912],\n",
       "       [0.13123696, 0.05993116],\n",
       "       [0.22316114, 0.08582912],\n",
       "       [0.22316114, 0.08582912]])"
      ]
     },
     "execution_count": 284,
     "metadata": {},
     "output_type": "execute_result"
    }
   ],
   "source": [
    "elmnt_prod[0,:10,:]"
   ]
  },
  {
   "cell_type": "code",
   "execution_count": 285,
   "metadata": {},
   "outputs": [
    {
     "data": {
      "text/plain": [
       "array([[[0.22316114, 0.08582912],\n",
       "        [0.13123696, 0.05993116],\n",
       "        [0.22316114, 0.08582912],\n",
       "        [0.22316114, 0.08582912],\n",
       "        [0.13123696, 0.05993116],\n",
       "        [0.22316114, 0.08582912],\n",
       "        [0.22316114, 0.08582912],\n",
       "        [0.13123696, 0.05993116],\n",
       "        [0.22316114, 0.08582912],\n",
       "        [0.22316114, 0.08582912],\n",
       "        [0.22316114, 0.08582912],\n",
       "        [0.13123696, 0.05993116],\n",
       "        [0.22316114, 0.08582912],\n",
       "        [0.22316114, 0.08582912],\n",
       "        [0.22316114, 0.08582912],\n",
       "        [0.13123696, 0.05993116],\n",
       "        [0.13123696, 0.05993116],\n",
       "        [0.22316114, 0.08582912],\n",
       "        [0.22316114, 0.08582912],\n",
       "        [0.22316114, 0.08582912],\n",
       "        [0.13123696, 0.05993116],\n",
       "        [0.13123696, 0.05993116],\n",
       "        [0.22316114, 0.08582912],\n",
       "        [0.13123696, 0.05993116],\n",
       "        [0.13123696, 0.05993116],\n",
       "        [0.22316114, 0.08582912],\n",
       "        [0.13123696, 0.05993116],\n",
       "        [0.22316114, 0.08582912],\n",
       "        [0.22316114, 0.08582912],\n",
       "        [0.13123696, 0.05993116],\n",
       "        [0.13123696, 0.05993116],\n",
       "        [0.13123696, 0.05993116],\n",
       "        [0.22316114, 0.08582912],\n",
       "        [0.22316114, 0.08582912],\n",
       "        [0.22316114, 0.08582912],\n",
       "        [0.22316114, 0.08582912],\n",
       "        [0.22316114, 0.08582912],\n",
       "        [0.13123696, 0.05993116],\n",
       "        [0.13123696, 0.05993116],\n",
       "        [0.13123696, 0.05993116],\n",
       "        [0.13123696, 0.05993116],\n",
       "        [0.22316114, 0.08582912],\n",
       "        [0.13123696, 0.05993116],\n",
       "        [0.22316114, 0.08582912],\n",
       "        [0.13123696, 0.05993116],\n",
       "        [0.13123696, 0.05993116],\n",
       "        [0.13123696, 0.05993116],\n",
       "        [0.13123696, 0.05993116],\n",
       "        [0.22316114, 0.08582912],\n",
       "        [0.22316114, 0.08582912]],\n",
       "\n",
       "       [[0.09168414, 0.20858964],\n",
       "        [0.05391776, 0.14565008],\n",
       "        [0.09168414, 0.20858964],\n",
       "        [0.09168414, 0.20858964],\n",
       "        [0.05391776, 0.14565008],\n",
       "        [0.09168414, 0.20858964],\n",
       "        [0.09168414, 0.20858964],\n",
       "        [0.05391776, 0.14565008],\n",
       "        [0.09168414, 0.20858964],\n",
       "        [0.09168414, 0.20858964],\n",
       "        [0.09168414, 0.20858964],\n",
       "        [0.05391776, 0.14565008],\n",
       "        [0.09168414, 0.20858964],\n",
       "        [0.09168414, 0.20858964],\n",
       "        [0.09168414, 0.20858964],\n",
       "        [0.05391776, 0.14565008],\n",
       "        [0.05391776, 0.14565008],\n",
       "        [0.09168414, 0.20858964],\n",
       "        [0.09168414, 0.20858964],\n",
       "        [0.09168414, 0.20858964],\n",
       "        [0.05391776, 0.14565008],\n",
       "        [0.05391776, 0.14565008],\n",
       "        [0.09168414, 0.20858964],\n",
       "        [0.05391776, 0.14565008],\n",
       "        [0.05391776, 0.14565008],\n",
       "        [0.09168414, 0.20858964],\n",
       "        [0.05391776, 0.14565008],\n",
       "        [0.09168414, 0.20858964],\n",
       "        [0.09168414, 0.20858964],\n",
       "        [0.05391776, 0.14565008],\n",
       "        [0.05391776, 0.14565008],\n",
       "        [0.05391776, 0.14565008],\n",
       "        [0.09168414, 0.20858964],\n",
       "        [0.09168414, 0.20858964],\n",
       "        [0.09168414, 0.20858964],\n",
       "        [0.09168414, 0.20858964],\n",
       "        [0.09168414, 0.20858964],\n",
       "        [0.05391776, 0.14565008],\n",
       "        [0.05391776, 0.14565008],\n",
       "        [0.05391776, 0.14565008],\n",
       "        [0.05391776, 0.14565008],\n",
       "        [0.09168414, 0.20858964],\n",
       "        [0.05391776, 0.14565008],\n",
       "        [0.09168414, 0.20858964],\n",
       "        [0.05391776, 0.14565008],\n",
       "        [0.05391776, 0.14565008],\n",
       "        [0.05391776, 0.14565008],\n",
       "        [0.05391776, 0.14565008],\n",
       "        [0.09168414, 0.20858964],\n",
       "        [0.09168414, 0.20858964]]])"
      ]
     },
     "execution_count": 285,
     "metadata": {},
     "output_type": "execute_result"
    }
   ],
   "source": [
    "elmnt_prod"
   ]
  },
  {
   "cell_type": "code",
   "execution_count": 275,
   "metadata": {},
   "outputs": [
    {
     "data": {
      "text/plain": [
       "array([[0.22316114, 0.13123696, 0.22316114, 0.22316114, 0.13123696,\n",
       "        0.22316114, 0.22316114, 0.13123696, 0.22316114, 0.22316114,\n",
       "        0.22316114, 0.13123696, 0.22316114, 0.22316114, 0.22316114,\n",
       "        0.13123696, 0.13123696, 0.22316114, 0.22316114, 0.22316114,\n",
       "        0.13123696, 0.13123696, 0.22316114, 0.13123696, 0.13123696,\n",
       "        0.22316114, 0.13123696, 0.22316114, 0.22316114, 0.13123696,\n",
       "        0.13123696, 0.13123696, 0.22316114, 0.22316114, 0.22316114,\n",
       "        0.22316114, 0.22316114, 0.13123696, 0.13123696, 0.13123696,\n",
       "        0.13123696, 0.22316114, 0.13123696, 0.22316114, 0.13123696,\n",
       "        0.13123696, 0.13123696, 0.13123696, 0.22316114, 0.22316114],\n",
       "       [0.20858964, 0.14565008, 0.20858964, 0.20858964, 0.14565008,\n",
       "        0.20858964, 0.20858964, 0.14565008, 0.20858964, 0.20858964,\n",
       "        0.20858964, 0.14565008, 0.20858964, 0.20858964, 0.20858964,\n",
       "        0.14565008, 0.14565008, 0.20858964, 0.20858964, 0.20858964,\n",
       "        0.14565008, 0.14565008, 0.20858964, 0.14565008, 0.14565008,\n",
       "        0.20858964, 0.14565008, 0.20858964, 0.20858964, 0.14565008,\n",
       "        0.14565008, 0.14565008, 0.20858964, 0.20858964, 0.20858964,\n",
       "        0.20858964, 0.20858964, 0.14565008, 0.14565008, 0.14565008,\n",
       "        0.14565008, 0.20858964, 0.14565008, 0.20858964, 0.14565008,\n",
       "        0.14565008, 0.14565008, 0.14565008, 0.20858964, 0.20858964]])"
      ]
     },
     "execution_count": 275,
     "metadata": {},
     "output_type": "execute_result"
    }
   ],
   "source": [
    "max_elmnt_prod"
   ]
  },
  {
   "cell_type": "code",
   "execution_count": 245,
   "metadata": {},
   "outputs": [],
   "source": [
    "psps, opt_st = viterbi(X_data, pi_, A_, B_)"
   ]
  },
  {
   "cell_type": "code",
   "execution_count": 254,
   "metadata": {},
   "outputs": [
    {
     "data": {
      "text/plain": [
       "[array([[0., 0., 0., 0., 0., 0., 0., 0., 0., 0., 0., 0., 0., 0., 0., 0.,\n",
       "         0., 0., 0., 0., 0., 0., 0., 0., 0., 0., 0., 0., 0., 0., 0., 0.,\n",
       "         0., 0., 0., 0., 0., 0., 0., 0., 0., 0., 0., 0., 0., 0., 0., 0.,\n",
       "         0., 0.],\n",
       "        [0., 0., 0., 0., 0., 0., 0., 0., 0., 0., 0., 0., 0., 0., 0., 0.,\n",
       "         0., 0., 0., 0., 0., 0., 0., 0., 0., 0., 0., 0., 0., 0., 0., 0.,\n",
       "         0., 0., 0., 0., 0., 0., 0., 0., 0., 0., 0., 0., 0., 0., 0., 0.,\n",
       "         0., 0.]]),\n",
       " array([[0, 0, 0, 0, 0, 0, 0, 0, 0, 0, 0, 0, 0, 0, 0, 0, 0, 0, 0, 0, 0, 0,\n",
       "         0, 0, 0, 0, 0, 0, 0, 0, 0, 0, 0, 0, 0, 0, 0, 0, 0, 0, 0, 0, 0, 0,\n",
       "         0, 0, 0, 0, 0, 0],\n",
       "        [1, 1, 1, 1, 1, 1, 1, 1, 1, 1, 1, 1, 1, 1, 1, 1, 1, 1, 1, 1, 1, 1,\n",
       "         1, 1, 1, 1, 1, 1, 1, 1, 1, 1, 1, 1, 1, 1, 1, 1, 1, 1, 1, 1, 1, 1,\n",
       "         1, 1, 1, 1, 1, 1]]),\n",
       " array([[0, 0, 0, 0, 0, 0, 0, 0, 0, 0, 0, 0, 0, 0, 0, 0, 0, 0, 0, 0, 0, 0,\n",
       "         0, 0, 0, 0, 0, 0, 0, 0, 0, 0, 0, 0, 0, 0, 0, 0, 0, 0, 0, 0, 0, 0,\n",
       "         0, 0, 0, 0, 0, 0],\n",
       "        [1, 1, 1, 1, 1, 1, 1, 1, 1, 1, 1, 1, 1, 1, 1, 1, 1, 1, 1, 1, 1, 1,\n",
       "         1, 1, 1, 1, 1, 1, 1, 1, 1, 1, 1, 1, 1, 1, 1, 1, 1, 1, 1, 1, 1, 1,\n",
       "         1, 1, 1, 1, 1, 1]]),\n",
       " array([[0, 0, 0, 0, 0, 0, 0, 0, 0, 0, 0, 0, 0, 0, 0, 0, 0, 0, 0, 0, 0, 0,\n",
       "         0, 0, 0, 0, 0, 0, 0, 0, 0, 0, 0, 0, 0, 0, 0, 0, 0, 0, 0, 0, 0, 0,\n",
       "         0, 0, 0, 0, 0, 0],\n",
       "        [1, 1, 1, 1, 1, 1, 1, 1, 1, 1, 1, 1, 1, 1, 1, 1, 1, 1, 1, 1, 1, 1,\n",
       "         1, 1, 1, 1, 1, 1, 1, 1, 1, 1, 1, 1, 1, 1, 1, 1, 1, 1, 1, 1, 1, 1,\n",
       "         1, 1, 1, 1, 1, 1]]),\n",
       " array([[0, 0, 0, 0, 0, 0, 0, 0, 0, 0, 0, 0, 0, 0, 0, 0, 0, 0, 0, 0, 0, 0,\n",
       "         0, 0, 0, 0, 0, 0, 0, 0, 0, 0, 0, 0, 0, 0, 0, 0, 0, 0, 0, 0, 0, 0,\n",
       "         0, 0, 0, 0, 0, 0],\n",
       "        [1, 1, 1, 1, 1, 1, 1, 1, 1, 1, 1, 1, 1, 1, 1, 1, 1, 1, 1, 1, 1, 1,\n",
       "         1, 1, 1, 1, 1, 1, 1, 1, 1, 1, 1, 1, 1, 1, 1, 1, 1, 1, 1, 1, 1, 1,\n",
       "         1, 1, 1, 1, 1, 1]]),\n",
       " array([[0, 0, 0, 0, 0, 0, 0, 0, 0, 0, 0, 0, 0, 0, 0, 0, 0, 0, 0, 0, 0, 0,\n",
       "         0, 0, 0, 0, 0, 0, 0, 0, 0, 0, 0, 0, 0, 0, 0, 0, 0, 0, 0, 0, 0, 0,\n",
       "         0, 0, 0, 0, 0, 0],\n",
       "        [1, 1, 1, 1, 1, 1, 1, 1, 1, 1, 1, 1, 1, 1, 1, 1, 1, 1, 1, 1, 1, 1,\n",
       "         1, 1, 1, 1, 1, 1, 1, 1, 1, 1, 1, 1, 1, 1, 1, 1, 1, 1, 1, 1, 1, 1,\n",
       "         1, 1, 1, 1, 1, 1]]),\n",
       " array([[0, 0, 0, 0, 0, 0, 0, 0, 0, 0, 0, 0, 0, 0, 0, 0, 0, 0, 0, 0, 0, 0,\n",
       "         0, 0, 0, 0, 0, 0, 0, 0, 0, 0, 0, 0, 0, 0, 0, 0, 0, 0, 0, 0, 0, 0,\n",
       "         0, 0, 0, 0, 0, 0],\n",
       "        [1, 1, 1, 1, 1, 1, 1, 1, 1, 1, 1, 1, 1, 1, 1, 1, 1, 1, 1, 1, 1, 1,\n",
       "         1, 1, 1, 1, 1, 1, 1, 1, 1, 1, 1, 1, 1, 1, 1, 1, 1, 1, 1, 1, 1, 1,\n",
       "         1, 1, 1, 1, 1, 1]]),\n",
       " array([[0, 0, 0, 0, 0, 0, 0, 0, 0, 0, 0, 0, 0, 0, 0, 0, 0, 0, 0, 0, 0, 0,\n",
       "         0, 0, 0, 0, 0, 0, 0, 0, 0, 0, 0, 0, 0, 0, 0, 0, 0, 0, 0, 0, 0, 0,\n",
       "         0, 0, 0, 0, 0, 0],\n",
       "        [1, 1, 1, 1, 1, 1, 1, 1, 1, 1, 1, 1, 1, 1, 1, 1, 1, 1, 1, 1, 1, 1,\n",
       "         1, 1, 1, 1, 1, 1, 1, 1, 1, 1, 1, 1, 1, 1, 1, 1, 1, 1, 1, 1, 1, 1,\n",
       "         1, 1, 1, 1, 1, 1]]),\n",
       " array([[0, 0, 0, 0, 0, 0, 0, 0, 0, 0, 0, 0, 0, 0, 0, 0, 0, 0, 0, 0, 0, 0,\n",
       "         0, 0, 0, 0, 0, 0, 0, 0, 0, 0, 0, 0, 0, 0, 0, 0, 0, 0, 0, 0, 0, 0,\n",
       "         0, 0, 0, 0, 0, 0],\n",
       "        [1, 1, 1, 1, 1, 1, 1, 1, 1, 1, 1, 1, 1, 1, 1, 1, 1, 1, 1, 1, 1, 1,\n",
       "         1, 1, 1, 1, 1, 1, 1, 1, 1, 1, 1, 1, 1, 1, 1, 1, 1, 1, 1, 1, 1, 1,\n",
       "         1, 1, 1, 1, 1, 1]]),\n",
       " array([[0, 1, 0, 0, 0, 0, 0, 0, 0, 0, 0, 0, 0, 0, 0, 0, 0, 0, 0, 0, 0, 0,\n",
       "         0, 0, 0, 0, 0, 0, 0, 0, 0, 0, 0, 0, 0, 0, 0, 0, 0, 0, 0, 0, 0, 0,\n",
       "         0, 0, 0, 0, 0, 0],\n",
       "        [1, 1, 1, 1, 1, 1, 1, 1, 1, 1, 1, 1, 1, 1, 1, 1, 1, 1, 1, 1, 1, 1,\n",
       "         1, 1, 1, 1, 1, 1, 1, 1, 1, 1, 1, 1, 1, 1, 1, 1, 1, 1, 1, 1, 1, 1,\n",
       "         1, 1, 1, 1, 1, 1]]),\n",
       " array([[0, 0, 0, 0, 0, 0, 0, 0, 0, 0, 0, 0, 0, 0, 0, 0, 0, 0, 0, 0, 0, 0,\n",
       "         0, 0, 0, 0, 0, 0, 0, 0, 0, 0, 0, 0, 0, 0, 0, 0, 0, 0, 0, 0, 0, 0,\n",
       "         0, 0, 0, 0, 0, 0],\n",
       "        [1, 1, 1, 1, 1, 1, 1, 1, 1, 1, 1, 1, 1, 1, 1, 1, 1, 1, 1, 1, 1, 1,\n",
       "         1, 1, 1, 1, 1, 1, 1, 1, 1, 1, 1, 1, 1, 1, 1, 1, 1, 1, 1, 1, 1, 1,\n",
       "         1, 1, 1, 1, 1, 1]]),\n",
       " array([[0, 0, 0, 0, 0, 0, 0, 0, 0, 0, 0, 0, 0, 0, 0, 0, 0, 0, 0, 0, 0, 0,\n",
       "         0, 0, 0, 0, 0, 0, 0, 0, 0, 0, 0, 0, 0, 0, 0, 0, 0, 0, 0, 0, 0, 0,\n",
       "         0, 0, 0, 0, 0, 0],\n",
       "        [1, 1, 1, 1, 1, 1, 1, 1, 1, 1, 1, 1, 1, 1, 1, 1, 1, 1, 1, 1, 1, 1,\n",
       "         1, 1, 1, 1, 1, 1, 1, 1, 1, 1, 1, 1, 1, 1, 1, 1, 1, 1, 1, 1, 1, 1,\n",
       "         1, 1, 1, 1, 1, 1]]),\n",
       " array([[0, 0, 0, 0, 0, 0, 0, 0, 0, 0, 0, 0, 0, 0, 0, 0, 0, 0, 0, 0, 0, 0,\n",
       "         0, 0, 0, 0, 0, 0, 0, 0, 0, 0, 0, 0, 0, 0, 0, 0, 0, 0, 0, 0, 0, 0,\n",
       "         0, 0, 0, 0, 0, 0],\n",
       "        [1, 1, 1, 1, 1, 1, 1, 1, 1, 1, 1, 1, 1, 1, 1, 1, 1, 1, 1, 1, 1, 1,\n",
       "         1, 1, 1, 1, 1, 1, 1, 1, 1, 1, 1, 1, 1, 1, 1, 1, 1, 1, 1, 1, 1, 1,\n",
       "         1, 1, 1, 1, 1, 1]]),\n",
       " array([[0, 1, 0, 0, 0, 0, 0, 0, 0, 0, 0, 0, 0, 0, 0, 0, 0, 0, 0, 0, 0, 0,\n",
       "         0, 0, 0, 0, 0, 0, 0, 0, 0, 0, 0, 0, 0, 0, 0, 0, 0, 0, 0, 0, 0, 0,\n",
       "         0, 0, 0, 0, 0, 0],\n",
       "        [1, 1, 1, 1, 1, 1, 1, 1, 1, 1, 1, 1, 1, 1, 1, 1, 1, 1, 1, 1, 1, 1,\n",
       "         1, 1, 1, 1, 1, 1, 1, 1, 1, 1, 1, 1, 1, 1, 1, 1, 1, 1, 1, 1, 1, 1,\n",
       "         1, 1, 1, 1, 1, 1]]),\n",
       " array([[0, 0, 0, 0, 0, 0, 0, 0, 0, 0, 0, 0, 0, 0, 0, 0, 0, 0, 0, 0, 0, 0,\n",
       "         0, 0, 0, 0, 0, 0, 0, 0, 0, 0, 0, 0, 0, 0, 0, 0, 0, 1, 0, 0, 0, 0,\n",
       "         0, 0, 0, 0, 0, 0],\n",
       "        [1, 1, 1, 1, 1, 1, 1, 1, 1, 1, 1, 1, 1, 1, 1, 1, 1, 1, 1, 1, 1, 1,\n",
       "         1, 1, 1, 1, 1, 1, 1, 1, 1, 1, 1, 1, 1, 1, 1, 1, 1, 1, 1, 1, 1, 1,\n",
       "         1, 1, 1, 1, 1, 1]]),\n",
       " array([[0, 1, 0, 0, 0, 0, 0, 0, 0, 0, 0, 0, 0, 0, 0, 0, 0, 0, 0, 0, 0, 0,\n",
       "         0, 0, 0, 0, 0, 0, 0, 0, 0, 0, 0, 0, 0, 0, 0, 0, 0, 0, 0, 0, 0, 0,\n",
       "         0, 0, 0, 0, 0, 0],\n",
       "        [1, 1, 1, 1, 1, 1, 1, 1, 1, 1, 1, 1, 1, 1, 1, 1, 1, 1, 1, 1, 1, 1,\n",
       "         1, 1, 1, 1, 1, 1, 1, 1, 1, 1, 1, 1, 1, 1, 1, 1, 1, 1, 1, 1, 1, 1,\n",
       "         1, 1, 1, 1, 1, 1]]),\n",
       " array([[0, 1, 0, 0, 0, 0, 0, 0, 0, 0, 0, 0, 0, 0, 0, 0, 0, 0, 0, 0, 0, 0,\n",
       "         0, 0, 0, 0, 0, 0, 0, 0, 0, 0, 0, 0, 0, 0, 0, 0, 0, 0, 0, 0, 0, 0,\n",
       "         0, 0, 0, 0, 0, 0],\n",
       "        [1, 1, 1, 1, 1, 1, 1, 1, 1, 1, 1, 1, 1, 1, 1, 1, 1, 1, 1, 1, 1, 1,\n",
       "         1, 1, 1, 1, 1, 1, 1, 1, 1, 1, 1, 1, 1, 1, 1, 1, 1, 1, 1, 1, 1, 1,\n",
       "         1, 1, 1, 1, 1, 1]]),\n",
       " array([[0, 0, 0, 0, 0, 0, 0, 0, 0, 0, 0, 0, 0, 1, 0, 0, 0, 0, 0, 0, 0, 0,\n",
       "         0, 0, 0, 0, 0, 0, 0, 0, 0, 0, 0, 0, 0, 0, 0, 0, 0, 0, 0, 0, 0, 0,\n",
       "         0, 0, 0, 0, 0, 0],\n",
       "        [1, 1, 1, 1, 1, 1, 1, 1, 1, 1, 1, 1, 1, 1, 1, 1, 1, 1, 1, 1, 1, 1,\n",
       "         1, 1, 1, 1, 1, 1, 1, 1, 1, 1, 1, 1, 1, 1, 1, 1, 1, 1, 1, 1, 1, 1,\n",
       "         1, 1, 1, 1, 1, 1]]),\n",
       " array([[0, 0, 0, 0, 0, 0, 0, 0, 0, 0, 0, 0, 0, 1, 0, 0, 0, 0, 0, 0, 0, 0,\n",
       "         0, 0, 0, 0, 0, 0, 0, 0, 0, 0, 0, 0, 0, 0, 0, 0, 0, 0, 0, 0, 0, 0,\n",
       "         0, 0, 0, 0, 0, 0],\n",
       "        [1, 1, 1, 1, 1, 1, 1, 1, 1, 1, 1, 1, 1, 1, 1, 1, 1, 1, 1, 1, 1, 1,\n",
       "         1, 1, 1, 1, 1, 1, 1, 1, 1, 1, 1, 1, 1, 1, 1, 1, 1, 1, 1, 1, 1, 1,\n",
       "         1, 1, 1, 1, 1, 1]]),\n",
       " array([[0, 0, 0, 0, 0, 0, 0, 0, 0, 0, 0, 0, 0, 1, 0, 0, 0, 0, 0, 0, 0, 0,\n",
       "         0, 0, 0, 0, 0, 0, 0, 0, 0, 0, 0, 0, 0, 0, 0, 0, 0, 1, 0, 0, 0, 0,\n",
       "         0, 0, 0, 0, 0, 0],\n",
       "        [1, 1, 1, 1, 1, 1, 1, 1, 1, 1, 1, 1, 1, 1, 1, 1, 1, 1, 1, 1, 1, 1,\n",
       "         1, 1, 1, 1, 1, 1, 1, 1, 1, 1, 1, 1, 1, 1, 1, 1, 1, 1, 1, 1, 1, 1,\n",
       "         1, 1, 1, 1, 1, 1]]),\n",
       " array([[0, 0, 0, 0, 0, 0, 0, 0, 0, 0, 0, 0, 0, 1, 0, 0, 0, 0, 0, 0, 0, 0,\n",
       "         0, 0, 0, 0, 0, 0, 0, 0, 0, 0, 0, 0, 0, 0, 0, 0, 0, 1, 0, 0, 0, 0,\n",
       "         0, 0, 0, 0, 0, 0],\n",
       "        [1, 1, 1, 1, 1, 1, 1, 1, 1, 1, 1, 1, 1, 1, 1, 1, 1, 1, 1, 1, 1, 1,\n",
       "         1, 1, 1, 1, 1, 1, 1, 1, 1, 1, 1, 1, 1, 1, 1, 1, 1, 1, 1, 1, 1, 1,\n",
       "         1, 1, 1, 1, 1, 1]]),\n",
       " array([[0, 0, 0, 0, 0, 0, 0, 0, 0, 0, 0, 0, 0, 1, 0, 0, 0, 0, 0, 0, 0, 0,\n",
       "         0, 0, 0, 0, 0, 0, 0, 0, 0, 0, 0, 0, 0, 0, 0, 0, 0, 0, 0, 0, 0, 0,\n",
       "         0, 0, 0, 0, 0, 0],\n",
       "        [1, 1, 1, 1, 1, 1, 1, 1, 1, 1, 1, 1, 1, 1, 1, 1, 1, 1, 1, 1, 1, 1,\n",
       "         1, 1, 1, 1, 1, 1, 1, 1, 1, 1, 1, 1, 1, 1, 1, 1, 1, 1, 1, 1, 1, 1,\n",
       "         1, 1, 1, 1, 1, 1]]),\n",
       " array([[0, 0, 0, 0, 0, 0, 0, 0, 0, 0, 0, 0, 0, 1, 0, 0, 1, 0, 0, 0, 0, 0,\n",
       "         0, 0, 0, 0, 0, 0, 0, 0, 0, 0, 0, 0, 0, 1, 0, 0, 0, 1, 0, 0, 0, 0,\n",
       "         0, 0, 0, 0, 0, 0],\n",
       "        [1, 1, 1, 1, 1, 1, 1, 1, 1, 1, 1, 1, 1, 1, 1, 1, 1, 1, 1, 1, 1, 1,\n",
       "         1, 1, 1, 1, 1, 1, 1, 1, 1, 1, 1, 1, 1, 1, 1, 1, 1, 1, 1, 1, 1, 1,\n",
       "         1, 1, 1, 1, 1, 1]]),\n",
       " array([[0, 0, 0, 0, 0, 0, 0, 0, 0, 0, 0, 0, 0, 0, 0, 0, 0, 0, 0, 0, 0, 0,\n",
       "         0, 0, 0, 0, 0, 0, 0, 0, 0, 0, 0, 0, 0, 0, 0, 0, 0, 1, 0, 0, 0, 0,\n",
       "         0, 0, 0, 0, 0, 0],\n",
       "        [1, 1, 1, 1, 1, 1, 1, 1, 1, 1, 1, 1, 1, 1, 1, 1, 1, 1, 1, 1, 1, 1,\n",
       "         1, 1, 1, 1, 1, 1, 1, 1, 1, 1, 1, 1, 1, 1, 1, 1, 1, 1, 1, 1, 1, 1,\n",
       "         1, 1, 1, 1, 1, 1]]),\n",
       " array([[0, 0, 0, 0, 0, 1, 0, 0, 0, 0, 0, 0, 0, 1, 0, 0, 0, 0, 0, 0, 0, 0,\n",
       "         0, 0, 0, 0, 1, 0, 0, 0, 0, 0, 0, 0, 0, 0, 0, 0, 0, 0, 0, 0, 0, 0,\n",
       "         0, 0, 0, 0, 0, 0],\n",
       "        [1, 1, 1, 1, 1, 1, 1, 1, 1, 1, 1, 1, 1, 1, 1, 1, 1, 1, 1, 1, 1, 1,\n",
       "         1, 1, 1, 1, 1, 1, 1, 1, 1, 1, 1, 1, 1, 1, 1, 1, 1, 1, 1, 1, 1, 1,\n",
       "         1, 1, 1, 1, 1, 1]]),\n",
       " array([[0, 0, 0, 0, 0, 1, 0, 0, 0, 0, 0, 0, 0, 0, 0, 0, 0, 0, 0, 0, 0, 0,\n",
       "         0, 0, 0, 0, 1, 0, 0, 0, 0, 0, 0, 0, 0, 0, 0, 0, 0, 1, 0, 0, 0, 0,\n",
       "         0, 0, 0, 0, 0, 0],\n",
       "        [1, 1, 1, 1, 1, 1, 1, 1, 1, 1, 1, 1, 1, 1, 1, 1, 1, 1, 1, 1, 1, 1,\n",
       "         1, 1, 1, 1, 1, 1, 1, 1, 1, 1, 1, 1, 1, 1, 1, 1, 1, 1, 1, 1, 1, 1,\n",
       "         1, 1, 1, 1, 1, 1]]),\n",
       " array([[0, 0, 0, 0, 0, 1, 0, 0, 0, 0, 0, 0, 0, 1, 0, 0, 0, 0, 0, 0, 0, 0,\n",
       "         0, 0, 0, 0, 0, 0, 0, 0, 0, 0, 0, 0, 0, 0, 0, 0, 0, 0, 0, 0, 0, 0,\n",
       "         0, 0, 0, 0, 0, 0],\n",
       "        [1, 1, 1, 1, 1, 1, 1, 1, 1, 1, 1, 1, 1, 1, 1, 1, 1, 1, 1, 1, 1, 1,\n",
       "         1, 1, 1, 1, 1, 1, 1, 1, 1, 1, 1, 1, 1, 1, 1, 1, 1, 1, 1, 1, 1, 1,\n",
       "         1, 1, 1, 1, 1, 1]]),\n",
       " array([[0, 0, 0, 1, 0, 0, 0, 0, 0, 1, 0, 0, 0, 0, 0, 0, 1, 0, 0, 0, 0, 0,\n",
       "         0, 0, 0, 0, 0, 0, 0, 0, 0, 0, 0, 0, 0, 1, 0, 0, 0, 0, 0, 0, 0, 0,\n",
       "         0, 0, 0, 0, 0, 0],\n",
       "        [1, 1, 1, 1, 1, 1, 1, 1, 1, 1, 1, 1, 1, 1, 1, 1, 1, 1, 1, 1, 1, 1,\n",
       "         1, 1, 1, 1, 1, 1, 1, 1, 1, 1, 1, 1, 1, 1, 1, 1, 1, 1, 1, 1, 1, 1,\n",
       "         1, 1, 1, 1, 1, 1]]),\n",
       " array([[0, 0, 0, 0, 0, 1, 0, 0, 0, 0, 0, 0, 0, 0, 0, 0, 1, 0, 0, 0, 0, 0,\n",
       "         0, 0, 0, 0, 0, 0, 0, 0, 0, 0, 0, 0, 0, 1, 0, 0, 0, 0, 0, 0, 0, 0,\n",
       "         0, 0, 0, 0, 0, 0],\n",
       "        [1, 1, 1, 1, 1, 1, 1, 1, 1, 1, 1, 1, 1, 1, 1, 1, 1, 1, 1, 1, 1, 1,\n",
       "         1, 1, 1, 1, 1, 1, 1, 1, 1, 1, 1, 1, 1, 1, 1, 1, 1, 1, 1, 1, 1, 1,\n",
       "         1, 1, 1, 1, 1, 1]]),\n",
       " array([[0, 0, 0, 1, 0, 0, 0, 1, 0, 1, 0, 0, 0, 0, 0, 0, 0, 0, 0, 0, 0, 0,\n",
       "         0, 0, 0, 0, 0, 0, 0, 0, 0, 0, 0, 0, 0, 1, 0, 0, 0, 0, 0, 0, 0, 0,\n",
       "         0, 0, 0, 0, 0, 0],\n",
       "        [1, 1, 1, 1, 1, 1, 1, 1, 1, 1, 1, 1, 1, 1, 1, 1, 1, 1, 1, 1, 1, 1,\n",
       "         1, 1, 1, 1, 1, 1, 1, 1, 1, 1, 1, 1, 1, 1, 1, 1, 1, 1, 1, 1, 1, 1,\n",
       "         1, 1, 1, 1, 1, 1]])]"
      ]
     },
     "execution_count": 254,
     "metadata": {},
     "output_type": "execute_result"
    }
   ],
   "source": [
    "opt_st"
   ]
  },
  {
   "cell_type": "code",
   "execution_count": 251,
   "metadata": {},
   "outputs": [
    {
     "data": {
      "text/plain": [
       "array([[1.28834417e-14, 5.80204314e-15, 6.33459904e-14, 1.65783703e-15,\n",
       "        2.19075750e-14, 2.10595020e-15, 2.19075750e-14, 1.65783703e-15,\n",
       "        1.07716328e-13, 2.81905953e-15, 1.28834417e-14, 1.28834417e-14,\n",
       "        1.28834417e-14, 1.68313051e-15, 7.57651495e-15, 3.72526111e-14,\n",
       "        3.01599134e-15, 7.57651495e-15, 3.72526111e-14, 6.33459904e-14,\n",
       "        1.28834417e-14, 6.33459904e-14, 7.57651495e-15, 2.19075750e-14,\n",
       "        2.19075750e-14, 3.72526111e-14, 1.82921516e-15, 1.07716328e-13,\n",
       "        1.07716328e-13, 7.57651495e-15, 3.72526111e-14, 6.33459904e-14,\n",
       "        1.28834417e-14, 3.72526111e-14, 7.57651495e-15, 1.96844033e-15,\n",
       "        3.72526111e-14, 1.28834417e-14, 6.33459904e-14, 2.17192693e-15,\n",
       "        1.28834417e-14, 1.07716328e-13, 1.28834417e-14, 2.19075750e-14,\n",
       "        6.33459904e-14, 1.28834417e-14, 4.45560900e-15, 4.45560900e-15,\n",
       "        6.33459904e-14, 6.33459904e-14],\n",
       "       [1.88181346e-14, 9.17513760e-15, 5.52742108e-14, 4.47351193e-15,\n",
       "        2.69499873e-14, 4.47351193e-15, 2.69499873e-14, 4.47351193e-15,\n",
       "        7.91597735e-14, 6.40664401e-15, 1.88181346e-14, 1.88181346e-14,\n",
       "        1.88181346e-14, 3.12368051e-15, 1.31399762e-14, 3.85958453e-14,\n",
       "        6.40664401e-15, 1.31399762e-14, 3.85958453e-14, 5.52742108e-14,\n",
       "        1.88181346e-14, 5.52742108e-14, 1.31399762e-14, 2.69499873e-14,\n",
       "        2.69499873e-14, 3.85958453e-14, 4.47351193e-15, 7.91597735e-14,\n",
       "        7.91597735e-14, 1.31399762e-14, 3.85958453e-14, 5.52742108e-14,\n",
       "        1.88181346e-14, 3.85958453e-14, 1.31399762e-14, 4.47351193e-15,\n",
       "        3.85958453e-14, 1.88181346e-14, 5.52742108e-14, 4.47351193e-15,\n",
       "        1.88181346e-14, 7.91597735e-14, 1.88181346e-14, 2.69499873e-14,\n",
       "        5.52742108e-14, 1.88181346e-14, 9.17513760e-15, 9.17513760e-15,\n",
       "        5.52742108e-14, 5.52742108e-14]])"
      ]
     },
     "execution_count": 251,
     "metadata": {},
     "output_type": "execute_result"
    }
   ],
   "source": [
    "psps[-1]"
   ]
  },
  {
   "cell_type": "code",
   "execution_count": 236,
   "metadata": {},
   "outputs": [
    {
     "data": {
      "text/plain": [
       "array([1, 1, 1, 1, 1, 1, 1, 1, 1, 1, 1, 1, 1, 1, 1, 1, 1, 1, 1, 1, 1, 1,\n",
       "       1, 1, 1, 1, 1, 1, 1, 1])"
      ]
     },
     "execution_count": 236,
     "metadata": {},
     "output_type": "execute_result"
    }
   ],
   "source": [
    "opt_st[4,:]"
   ]
  },
  {
   "cell_type": "code",
   "execution_count": 219,
   "metadata": {},
   "outputs": [
    {
     "data": {
      "text/plain": [
       "50"
      ]
     },
     "execution_count": 219,
     "metadata": {},
     "output_type": "execute_result"
    }
   ],
   "source": [
    "ll=[]\n",
    "for i in range(50):\n",
    "    ll.append(psps[29,opt_st[i,29],i])\n",
    "\n",
    "len(ll)"
   ]
  },
  {
   "cell_type": "code",
   "execution_count": 222,
   "metadata": {},
   "outputs": [
    {
     "data": {
      "text/plain": [
       "array([1., 1., 0., 1., 1., 1., 1., 1., 0., 1., 1., 1., 1., 1., 1., 1., 1.,\n",
       "       1., 1., 0., 1., 0., 1., 1., 1., 1., 1., 0., 0., 1., 1., 0., 1., 1.,\n",
       "       1., 1., 1., 1., 0., 1., 1., 0., 1., 1., 0., 1., 1., 1., 0., 0.])"
      ]
     },
     "execution_count": 222,
     "metadata": {},
     "output_type": "execute_result"
    }
   ],
   "source": [
    "np.diagonal(psps[29,opt_st[:,29],:])"
   ]
  },
  {
   "cell_type": "code",
   "execution_count": 215,
   "metadata": {},
   "outputs": [
    {
     "data": {
      "text/plain": [
       "array([1, 1, 0, 1, 1, 1, 1, 1, 0, 1, 1, 1, 1, 1, 1, 1, 1, 1, 1, 0, 1, 0,\n",
       "       1, 1, 1, 1, 1, 0, 0, 1, 1, 0, 1, 1, 1, 1, 1, 1, 0, 1, 1, 0, 1, 1,\n",
       "       0, 1, 1, 1, 0, 0])"
      ]
     },
     "execution_count": 215,
     "metadata": {},
     "output_type": "execute_result"
    }
   ],
   "source": [
    "np.einsum('ijk,lm->ijklm', )"
   ]
  },
  {
   "cell_type": "code",
   "execution_count": 198,
   "metadata": {},
   "outputs": [
    {
     "data": {
      "text/plain": [
       "(2, 50)"
      ]
     },
     "execution_count": 198,
     "metadata": {},
     "output_type": "execute_result"
    }
   ],
   "source": [
    "psps[29, : ,:].shape"
   ]
  },
  {
   "cell_type": "code",
   "execution_count": 166,
   "metadata": {},
   "outputs": [
    {
     "data": {
      "text/plain": [
       "(30, 2, 50)"
      ]
     },
     "execution_count": 166,
     "metadata": {},
     "output_type": "execute_result"
    }
   ],
   "source": [
    "psps.shape"
   ]
  },
  {
   "cell_type": "code",
   "execution_count": 185,
   "metadata": {},
   "outputs": [
    {
     "name": "stderr",
     "output_type": "stream",
     "text": [
      "/tmp/ipykernel_207/3495326239.py:2: VisibleDeprecationWarning: Creating an ndarray from ragged nested sequences (which is a list-or-tuple of lists-or-tuples-or ndarrays with different lengths or shapes) is deprecated. If you meant to do this, you must specify 'dtype=object' when creating the ndarray.\n",
      "  kk = np.array(opt_st)[-1][1]\n"
     ]
    }
   ],
   "source": [
    "psps_s = psps[:,:,1]\n",
    "kk = np.array(opt_st)[-1][1]"
   ]
  },
  {
   "cell_type": "code",
   "execution_count": 187,
   "metadata": {},
   "outputs": [
    {
     "data": {
      "text/plain": [
       "1.0"
      ]
     },
     "execution_count": 187,
     "metadata": {},
     "output_type": "execute_result"
    }
   ],
   "source": [
    "psps_s[29,1]"
   ]
  },
  {
   "cell_type": "code",
   "execution_count": 181,
   "metadata": {},
   "outputs": [
    {
     "name": "stderr",
     "output_type": "stream",
     "text": [
      "/tmp/ipykernel_207/2409934690.py:1: VisibleDeprecationWarning: Creating an ndarray from ragged nested sequences (which is a list-or-tuple of lists-or-tuples-or ndarrays with different lengths or shapes) is deprecated. If you meant to do this, you must specify 'dtype=object' when creating the ndarray.\n",
      "  np.array(opt_st)[-1]\n"
     ]
    },
    {
     "data": {
      "text/plain": [
       "array([1, 1, 0, 1, 1, 1, 1, 1, 0, 1, 1, 1, 1, 1, 1, 1, 1, 1, 1, 0, 1, 0,\n",
       "       1, 1, 1, 1, 1, 0, 0, 1, 1, 0, 1, 1, 1, 1, 1, 1, 0, 1, 1, 0, 1, 1,\n",
       "       0, 1, 1, 1, 0, 0])"
      ]
     },
     "execution_count": 181,
     "metadata": {},
     "output_type": "execute_result"
    }
   ],
   "source": [
    "np.array(opt_st)[-1]"
   ]
  },
  {
   "cell_type": "code",
   "execution_count": 184,
   "metadata": {},
   "outputs": [
    {
     "data": {
      "text/plain": [
       "(50, 2)"
      ]
     },
     "execution_count": 184,
     "metadata": {},
     "output_type": "execute_result"
    }
   ],
   "source": [
    "psps[29, :, opt_st[29]].shape"
   ]
  },
  {
   "cell_type": "code",
   "execution_count": 153,
   "metadata": {},
   "outputs": [
    {
     "name": "stdout",
     "output_type": "stream",
     "text": [
      "29\n",
      "28\n"
     ]
    },
    {
     "ename": "IndexError",
     "evalue": "arrays used as indices must be of integer (or boolean) type",
     "output_type": "error",
     "traceback": [
      "\u001b[0;31m---------------------------------------------------------------------------\u001b[0m",
      "\u001b[0;31mIndexError\u001b[0m                                Traceback (most recent call last)",
      "\u001b[0;32m/tmp/ipykernel_207/3995043669.py\u001b[0m in \u001b[0;36m<module>\u001b[0;34m\u001b[0m\n\u001b[1;32m      2\u001b[0m     \u001b[0mprint\u001b[0m\u001b[0;34m(\u001b[0m\u001b[0mt_\u001b[0m\u001b[0;34m)\u001b[0m\u001b[0;34m\u001b[0m\u001b[0;34m\u001b[0m\u001b[0m\n\u001b[1;32m      3\u001b[0m     \u001b[0;31m# preserve time direction\u001b[0m\u001b[0;34m\u001b[0m\u001b[0;34m\u001b[0m\u001b[0;34m\u001b[0m\u001b[0m\n\u001b[0;32m----> 4\u001b[0;31m     \u001b[0mopt_st\u001b[0m\u001b[0;34m[\u001b[0m\u001b[0mt_\u001b[0m\u001b[0;34m-\u001b[0m\u001b[0;36m1\u001b[0m\u001b[0;34m]\u001b[0m \u001b[0;34m=\u001b[0m\u001b[0mnp\u001b[0m\u001b[0;34m.\u001b[0m\u001b[0marray\u001b[0m\u001b[0;34m(\u001b[0m\u001b[0mpsps\u001b[0m\u001b[0;34m)\u001b[0m\u001b[0;34m[\u001b[0m\u001b[0mt_\u001b[0m\u001b[0;34m,\u001b[0m \u001b[0mopt_st\u001b[0m\u001b[0;34m[\u001b[0m\u001b[0mt_\u001b[0m\u001b[0;34m]\u001b[0m\u001b[0;34m,\u001b[0m \u001b[0;34m:\u001b[0m\u001b[0;34m]\u001b[0m\u001b[0;34m\u001b[0m\u001b[0;34m\u001b[0m\u001b[0m\n\u001b[0m",
      "\u001b[0;31mIndexError\u001b[0m: arrays used as indices must be of integer (or boolean) type"
     ]
    }
   ],
   "source": [
    "for t_ in reversed(range(1,X_data.shape[1])):\n",
    "    print(t_)\n",
    "    # preserve time direction\n",
    "    opt_st[t_-1] =np.array(psps)[t_, opt_st[t_], :]"
   ]
  },
  {
   "cell_type": "code",
   "execution_count": 138,
   "metadata": {},
   "outputs": [
    {
     "data": {
      "text/plain": [
       "(30, 2, 50)"
      ]
     },
     "execution_count": 138,
     "metadata": {},
     "output_type": "execute_result"
    }
   ],
   "source": [
    "psps.shape\n"
   ]
  },
  {
   "cell_type": "markdown",
   "metadata": {},
   "source": [
    "## Define tensorized HMM"
   ]
  },
  {
   "cell_type": "code",
   "execution_count": 414,
   "metadata": {},
   "outputs": [],
   "source": [
    "class TensorizedHMM:\n",
    "\n",
    "    def __init__(self, num_hidden_states):\n",
    "        self.M = num_hidden_states\n",
    "\n",
    "    def fit(self, X: np.ndarray, max_iter: int = 30, verbose: bool = False):\n",
    "        \"\"\"\n",
    "        Parameters:\n",
    "            max_iter: maximum number of EM iterations to allow\n",
    "            X: stores a set of observed sequences as rows.\n",
    "        \"\"\"\n",
    "\n",
    "        # include seed for reproducibility\n",
    "        np.random.seed(123)\n",
    "\n",
    "        # vocabulary size (classes from 0 to V-1)\n",
    "        # (number of x states = K is the maximum number \n",
    "        # of states in the training set found for a sequence)\n",
    "        vocab_size = max(max(x) for x in X) + 1 \n",
    "        num_sequences = len(X)\n",
    "\n",
    "        # initialize pi, A and B\n",
    "        self.pi, self.A, self.B = generate_initial_parameters(\n",
    "                                                vocab_size=vocab_size, \n",
    "                                                num_hidden_states=self.M)\n",
    "        # store cost\n",
    "        costs = list()\n",
    "        for it in range(max_iter):\n",
    "            #if it % 10 == 0:\n",
    "            #    print('it:', it)\n",
    "\n",
    "            #### Compute alpha\n",
    "            alpha_ini = alpha_initial(X, self.pi, self.B)\n",
    "            # compute the full list of alphas for all N\n",
    "            self.alpha_list = forward_algo_input_fixed(X, self.A, self.B, alpha_ini)\n",
    "\n",
    "            #### compute beta\n",
    "            beta_ini = beta_initial(self.M, num_sequences)\n",
    "            self.beta_list = backward_algo_input_fixed(X, self.A, self.B, beta_ini)\n",
    "\n",
    "            #### compute cost\n",
    "            P = probability_fixed_input_sequence(self.alpha_list[-1])\n",
    "            cost = np.sum(np.log(P))\n",
    "            costs.append(cost)\n",
    "\n",
    "            #### Reestimate pi, A and B\n",
    "            self.pi = update_pi(self.alpha_list, self.beta_list)\n",
    "            self.A = update_A(X, self.alpha_list, self.beta_list, self.A, self.B)\n",
    "            self.B = update_B(X, self.alpha_list, self.beta_list)\n",
    "\n",
    "            if verbose:\n",
    "                ## print & plot final estimates/costs\n",
    "                print('ITERATION:', it)\n",
    "                print(\"A:\", self.A)\n",
    "                print('check A:', self.A.sum(axis=1))\n",
    "                print(\"B:\", self.B)\n",
    "                print('check B:', self.B.sum(axis=1))\n",
    "                print(\"pi:\", self.pi)\n",
    "                print('check pi:', self.pi.sum())\n",
    "\n",
    "        \n",
    "        # plot costs\n",
    "        #plt.plot(costs)\n",
    "        #plt.show()\n",
    "\n",
    "    def likelihood(self, x):\n",
    "        '''\n",
    "        Computes the probability (likelihood) of a sequence\n",
    "        by means of the forward algorithm\n",
    "        '''\n",
    "        \n",
    "        alpha_ini = alpha_initial(x, self.pi, self.B)\n",
    "        # compute the full list of alphas for all N\n",
    "        self.alpha_list = forward_algo_input_fixed(x, self.A, self.B, alpha_ini)\n",
    "\n",
    "        return probability_fixed_input_sequence(self.alpha_list[-1])\n",
    "\n",
    "    def likelihood_multi(self, X):\n",
    "        '''\n",
    "        Computes the probability (likelihood) for all the\n",
    "        observations (sequences)\n",
    "        '''\n",
    "        #return np.array([self.likelihood(x) for x in X])\n",
    "        return self.likelihood(X)\n",
    "\n",
    "    def log_likelihood_multi(self, X):\n",
    "        '''\n",
    "        Computes the log likelihood of all the observations\n",
    "        '''\n",
    "        return np.log(self.likelihood_multi(X))\n",
    "\n",
    "    def get_state_sequence(self, x):\n",
    "        # TODO: TENSORIZE\n",
    "        '''\n",
    "        Computes the most probable set of hidden states given \n",
    "        observation sequence x using the Viterbi algorithm\n",
    "        '''\n",
    "        T = len(x)\n",
    "        delta = np.zeros((T, self.M))\n",
    "        psi = np.zeros((T, self.M))\n",
    "        delta[0] = self.pi * self.B[:, x[0]]\n",
    "        for t in range(1,T):\n",
    "            for j in range(self.M):\n",
    "                delta[t,j] = np.max(delta[t-1]*self.A[:,j])*self.B[j, x[t]]\n",
    "                psi[t,j] = np.argmax(delta[t-1]*self.A[:,j])\n",
    "\n",
    "        ### Backtrack\n",
    "        states = np.zeros(T, dtype=np.int32)\n",
    "        states[T-1] = np.argmax(delta[T-1])\n",
    "        for t in range(T-2,-1,-1):\n",
    "            states[t] = psi[t+1, states[t+1]]\n",
    "\n",
    "        return states"
   ]
  },
  {
   "cell_type": "markdown",
   "metadata": {},
   "source": [
    "## Comparison and speed"
   ]
  },
  {
   "cell_type": "code",
   "execution_count": 417,
   "metadata": {},
   "outputs": [],
   "source": [
    "import matplotlib.pyplot as plt\n",
    "import time\n",
    "# the random state is fixed so that the initial state is identical.\n",
    "thmm = TensorizedHMM(2)\n",
    "hmm = HMM(2)"
   ]
  },
  {
   "cell_type": "code",
   "execution_count": 436,
   "metadata": {},
   "outputs": [],
   "source": [
    "tensor_time_stats = dict()\n",
    "for m_iter in [10,30,50]:\n",
    "    tensor_time_stats[m_iter] = list()\n",
    "    for exp_ in range(300):\n",
    "        #if exp_ % 10 == 0:\n",
    "        #    print(exp_)\n",
    "        start = time.time()\n",
    "        thmm = TensorizedHMM(2)\n",
    "        thmm.fit(X_data, max_iter=m_iter)\n",
    "        tensor_time_stats[m_iter].append(time.time()-start)"
   ]
  },
  {
   "cell_type": "code",
   "execution_count": 435,
   "metadata": {},
   "outputs": [
    {
     "name": "stderr",
     "output_type": "stream",
     "text": [
      "/tmp/ipykernel_2321/3611249952.py:59: DeprecationWarning: Calling np.sum(generator) is deprecated, and in the future will give a different result. Use np.sum(np.fromiter(generator)) or the python sum builtin instead.\n",
      "  self.pi = np.sum((alphas[n][0] * betas[n][0])/P[n] for n in range(num_sequences))/num_sequences\n"
     ]
    }
   ],
   "source": [
    "basic_time_stats = dict()\n",
    "for m_iter in [10,30,50]:\n",
    "    basic_time_stats[m_iter] = list()\n",
    "    for exp_ in range(300):\n",
    "        #if exp_ % 10 == 0:\n",
    "        #    print(exp_)\n",
    "        start = time.time()\n",
    "        hmm = HMM(2)\n",
    "        hmm.fit(X_data, max_iter=m_iter)\n",
    "        basic_time_stats[m_iter].append(time.time()-start)"
   ]
  },
  {
   "cell_type": "code",
   "execution_count": 438,
   "metadata": {},
   "outputs": [
    {
     "data": {
      "image/png": "[encoded data removed]",
      "text/plain": [
       "<Figure size 432x288 with 1 Axes>"
      ]
     },
     "metadata": {
      "needs_background": "light"
     },
     "output_type": "display_data"
    }
   ],
   "source": [
    "plt.hist(tensor_time_stats[30])\n",
    "plt.hist(basic_time_stats[30])\n",
    "plt.show()"
   ]
  },
  {
   "cell_type": "code",
   "execution_count": 439,
   "metadata": {},
   "outputs": [
    {
     "data": {
      "image/png": "[encoded data removed]",
      "text/plain": [
       "<Figure size 432x288 with 1 Axes>"
      ]
     },
     "metadata": {
      "needs_background": "light"
     },
     "output_type": "display_data"
    }
   ],
   "source": [
    "plt.hist(tensor_time_stats[50])\n",
    "plt.hist(basic_time_stats[50])\n",
    "plt.show()"
   ]
  },
  {
   "cell_type": "code",
   "execution_count": 437,
   "metadata": {},
   "outputs": [
    {
     "data": {
      "image/png": "[encoded data removed]",
      "text/plain": [
       "<Figure size 432x288 with 1 Axes>"
      ]
     },
     "metadata": {
      "needs_background": "light"
     },
     "output_type": "display_data"
    }
   ],
   "source": [
    "plt.hist(tensor_time_stats[10])\n",
    "plt.hist(basic_time_stats[10])\n",
    "plt.show()"
   ]
  },
  {
   "cell_type": "code",
   "execution_count": 432,
   "metadata": {},
   "outputs": [
    {
     "name": "stdout",
     "output_type": "stream",
     "text": [
      "0.04507279396057129\n",
      "0.27582740783691406\n"
     ]
    }
   ],
   "source": [
    "print(np.max(tensor_time_stats))\n",
    "print(np.max(basic_time_stats))"
   ]
  },
  {
   "cell_type": "markdown",
   "metadata": {},
   "source": []
  }
 ],
 "metadata": {
  "interpreter": {
   "hash": "19f2dcfaf593399b30a8f53af9c897705b95d8f5016d0f862fa64694b4ff6a68"
  },
  "kernelspec": {
   "display_name": "Python 3.8.12 64-bit ('HMMs_udemy': conda)",
   "language": "python",
   "name": "python3"
  },
  "language_info": {
   "codemirror_mode": {
    "name": "ipython",
    "version": 3
   },
   "file_extension": ".py",
   "mimetype": "text/x-python",
   "name": "python",
   "nbconvert_exporter": "python",
   "pygments_lexer": "ipython3",
   "version": "3.8.12"
  },
  "orig_nbformat": 4
 },
 "nbformat": 4,
 "nbformat_minor": 2
}
