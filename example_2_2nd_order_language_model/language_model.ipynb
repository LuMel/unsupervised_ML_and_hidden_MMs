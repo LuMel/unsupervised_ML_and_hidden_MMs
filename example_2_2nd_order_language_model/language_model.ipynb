{
 "cells": [
  {
   "cell_type": "code",
   "execution_count": 10,
   "metadata": {},
   "outputs": [],
   "source": [
    "import pandas as pd\n",
    "import numpy as np\n",
    "import string"
   ]
  },
  {
   "cell_type": "markdown",
   "metadata": {},
   "source": [
    "#  Second order Language model\n",
    "\n",
    "we will use Robert's Frost poems to construct a 2nd order language model, that is, one that does not follow the Markov assumption: $p(x_t|x_{t-1}, x_{t-2}) \\ne p(x_t|x_{t-1})$\n",
    "\n",
    "Since we have 2 past dependencies, we will need  two initial distributions: one for the first word and one for the second word."
   ]
  },
  {
   "cell_type": "code",
   "execution_count": 48,
   "metadata": {},
   "outputs": [],
   "source": [
    "def remove_puntuation(s: str) -> str:\n",
    "    return s.translate(str.maketrans(dict.fromkeys(string.punctuation)))\n",
    "\n",
    "def add2dict(d, k, v):\n",
    "    if k not in d:\n",
    "        d[k] = []\n",
    "    d[k].append(v)"
   ]
  },
  {
   "cell_type": "code",
   "execution_count": 49,
   "metadata": {},
   "outputs": [],
   "source": [
    "# store the initial distribution\n",
    "initial = {}\n",
    "# store the second word distribution\n",
    "second_word = {}\n",
    "# second order transitions\n",
    "transitions = {}\n",
    "\n",
    "\n",
    "# loop through the file of poems\n",
    "for line in open(\"robert_frost.txt\", 'r'):\n",
    "    tokens = remove_puntuation(line.rstrip().lower()).split()\n",
    "\n",
    "    # length of sequence\n",
    "    T = len(tokens)\n",
    "\n",
    "    for i in range(T):\n",
    "        t = tokens[i]\n",
    "        if i==0:\n",
    "            # keep counts of initial word\n",
    "            initial[t] = initial.get(t, 0.) + 1\n",
    "        else:\n",
    "            t_1 = tokens[i-1]\n",
    "            if i == T-1:\n",
    "                # add end of line\n",
    "                add2dict(transitions, (t_1, t), 'END')\n",
    "            if i==1:\n",
    "                add2dict(transitions, t_1, t)\n",
    "            else:\n",
    "                t_2 = tokens[i-2]\n",
    "                add2dict(transitions, (t_2, t_1), t)"
   ]
  },
  {
   "cell_type": "markdown",
   "metadata": {},
   "source": [
    "Get initial probability distribution"
   ]
  },
  {
   "cell_type": "code",
   "execution_count": 58,
   "metadata": {},
   "outputs": [
    {
     "name": "stdout",
     "output_type": "stream",
     "text": [
      "check 0.9999999999999998\n"
     ]
    }
   ],
   "source": [
    "# normalize the initial counts\n",
    "initial_total = sum(initial.values())\n",
    "\n",
    "# get initial probability distribution\n",
    "for t, c in initial.items():\n",
    "    initial[t] = c / initial_total\n",
    "\n",
    "print('check', sum(initial.values()))"
   ]
  },
  {
   "cell_type": "code",
   "execution_count": null,
   "metadata": {},
   "outputs": [],
   "source": []
  }
 ],
 "metadata": {
  "interpreter": {
   "hash": "481964941417186715faf7cca04c10e452b5656230146a5291a90c462fe9cb2b"
  },
  "kernelspec": {
   "display_name": "Python 3.8.12 64-bit ('mlflow-259d53ab44a1e9011b0c64ae862f43343c0fc9e5': conda)",
   "language": "python",
   "name": "python3"
  },
  "language_info": {
   "codemirror_mode": {
    "name": "ipython",
    "version": 3
   },
   "file_extension": ".py",
   "mimetype": "text/x-python",
   "name": "python",
   "nbconvert_exporter": "python",
   "pygments_lexer": "ipython3",
   "version": "3.7.3"
  },
  "orig_nbformat": 4
 },
 "nbformat": 4,
 "nbformat_minor": 2
}
