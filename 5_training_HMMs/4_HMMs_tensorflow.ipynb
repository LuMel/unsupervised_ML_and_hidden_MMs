{
 "cells": [
  {
   "cell_type": "markdown",
   "metadata": {},
   "source": [
    "# Training HMMs using tensorflow\n",
    "\n",
    "Training HMMs using tensorflow involves, implicitly, minimizing the minus log-likelihood using gradient descent.\n",
    "\n",
    "In turn, this implies \n"
   ]
  },
  {
   "cell_type": "markdown",
   "metadata": {},
   "source": []
  }
 ],
 "metadata": {
  "language_info": {
   "name": "python"
  },
  "orig_nbformat": 4
 },
 "nbformat": 4,
 "nbformat_minor": 2
}
