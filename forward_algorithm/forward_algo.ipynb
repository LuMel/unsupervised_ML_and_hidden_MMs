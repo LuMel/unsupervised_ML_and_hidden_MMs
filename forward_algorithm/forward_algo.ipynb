{
 "cells": [
  {
   "cell_type": "markdown",
   "metadata": {},
   "source": [
    "# Forward Algorithm\n",
    "\n",
    "This is a recursive algorithm based on the concept of $\\alpha(t, z_t)$, being $z_t$ the hidden state at time $t$ (we assume there are $M$ possible hidden states), which actually is $$\\alpha(t, z_t) = p(x_1,...,x_t, z_t)$$ It is useful for computing the probability of a given sequence of observations $$ p(x_1,...,x_T)$$ in a polynomial (in $T$, the length of the sequence) amount of computation time.\n",
    "\n",
    "As a preliminar state, note that, by marginalizing $$ p(x_1,...,x_T) = \\sum_{z_1}^M ...\\sum_{z_T}^M p(x_1,...x_T,z_1,...,z_T) $$ Then we can use the Markov property on $z_t$ and the fact that the probability of an observation at $t$, $x_t$, depends only on the hidden state at $t$, $z_t$. These properties allow us to write $$ p(x_1,...,x_T) = \\sum_{z_1}^M ...\\sum_{z_T}^M p(z_1) \\prod_t^T p(z_{t+1}|z_{t}) p(x_t|z_t) $$ As an example, consider the case $M=2, T=2$: $$ p(x_1, x_2) = \\sum_{z_1}^M \\sum_{z_2}^M p(x_2, x_1, z_1, z_2) = \\sum_{z_1}^M \\sum_{z_2}^M p(x_1 | z_2, x_2, z_1)p(x_2, z_2, z_1) \\\\ = \\sum_{z_1}^M \\sum_{z_2}^M p(x_1|z_1)p(x_2|z_2)p(z_2|z_1)p(z_1) $$ \n",
    "\n",
    "Note that the expression for $p(x_1,...,x_T)$ can be written in terms of transition matrices $A_{ij} = p(z_{t+1}=j| z_t =i), B_{jk} = p(x_t=k| z_t = j)$ and initial probabilities $\\pi_j = p(z_1=j)$: $$ p(x_1,...,x_T) = \\sum_{z_1}^M ...\\sum_{z_T}^M \\pi_{z_1} \\prod_t^T A_{z_{t+1}, z_t} B_{z_t, x_t}$$\n",
    "\n",
    "Note that the transition probabilities do not depend themselves on time, only on the pair of states they are transitioning from/to. For example, if $M=2$, then $A(1, 2) != A(2,1)$ in general, but $A(1, 2)$ will be the same regardless of whether $t=3$ or $t=100$. "
   ]
  }
 ],
 "metadata": {
  "language_info": {
   "name": "python"
  },
  "orig_nbformat": 4
 },
 "nbformat": 4,
 "nbformat_minor": 2
}
