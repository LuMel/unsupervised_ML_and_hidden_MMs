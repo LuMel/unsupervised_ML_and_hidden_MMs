{
 "cells": [
  {
   "cell_type": "markdown",
   "metadata": {},
   "source": [
    "# The underflow problem of HMMs\n",
    "\n",
    "There is an computational issue with the use of the EM algorithm for training HMMs, and this is called the underflow problem.\n",
    "The issue has to do with the fact that, in the recursive algorithms, we are repeatedly multiplying small numbers by themselves many times. Think of the forward algorithm: if $\\alpha <1$, the fact that $\\alpha(t)$ is computed by multiplying $\\alpha(t-1)$ recursively implies that a long sequence (of order hundred elements) will eventually produce an outcome of $0$."
   ]
  },
  {
   "cell_type": "markdown",
   "metadata": {},
   "source": [
    "## Viterbi algorithm\n",
    "\n",
    "Viterbi is easy because it only involves multiplications. To solve the underflow problem in this case it is therefore enough to consider the $\\log$ of the different quantities instead of the quntities themselves, as $$ \\log(AB) = \\log(A) + \\log(B)\\,,$$ which solves the underlfow problem."
   ]
  },
  {
   "cell_type": "markdown",
   "metadata": {},
   "source": [
    "## Scaling for Forward algorithm\n",
    "\n",
    "Contrary to Viterbi, the forward, backward and also training algorithms involve multiplications but also sums, and therefore taking the $\\log$ is not of any use.\n",
    "\n",
    "The useful concept here involves **scaling**. To that end, we include a *scale factor* $$c(t),\\ t=1,...\\,.T$$ Now, the forward algorithm can be rewritten as\n",
    "\n",
    "$$ \\alpha'(1, i) = \\pi_i B(j, x(1)) = \\alpha(t, i) $$\n",
    "$$ c(t) = \\sum_{i=1}^M \\alpha'(t,i)$$\n",
    "$$\\hat{\\alpha}(t,i) = \\frac{\\alpha'(t, i)}{c(t)}$$\n",
    "\n",
    "In particular $\\hat{\\alpha}(1,i) = \\pi_i B(j, x(1))/c(1)$. Also, the induction step involves $\\alpha'$ and $\\hat{\\alpha}$ now\n",
    "\n",
    "$$ \\alpha'(t, i) = \\sum_{i=1}^M \\hat{\\alpha}(t-1, i) A(i,j)B(j,x(t))\\,,$$\n",
    "\n",
    "The probability of a sequence now becomes $$p(x_1,...,x_T) = \\prod_{t=1}^T c(t)\\,.$$ Now we have accomplished the desire expression of the probability **solely as a product**, not as a sum or combinations of sumas and products. Therefore, to avoid the underlfow problem, it is now as easy as taking the $\\log$."
   ]
  },
  {
   "cell_type": "markdown",
   "metadata": {},
   "source": [
    "### Scaling for Backward algorithm\n",
    "\n",
    "For the backward algorithm ($\\beta$ update) it is not necessary to compute a new scale factor. We use the previous one $c(t)$.\n",
    "\n",
    "The initialization step is still $$\\hat{\\beta}(T,i)=1\\,.$$\n",
    "\n",
    "The induction step involves the scaling $$ \\hat{\\beta}(t,i) = \\frac{\\sum_{j=1}^N A(i,j)B(j, x(t+1)\\hat{\\beta}(t+1, j))}{c(t+1)}$$"
   ]
  },
  {
   "cell_type": "markdown",
   "metadata": {},
   "source": [
    "## Important identities\n",
    "\n",
    "These will be used when recasting the update equations in terms of hatted variables.\n",
    "\n",
    "$$ \\left(\\prod_{\\tau=1}^T c(\\tau)\\right)\\hat{\\alpha}(t,i) = \\alpha(t,i)\\,,$$\n",
    "$$ \\hat{\\alpha}(t,i)\\hat{\\beta}(t,i) p(x) = \\alpha(t,i)\\beta(t,i) \\,,$$\n",
    "$$ \\alpha(t,i)\\beta(t+1,j) = \\frac{\\hat{\\alpha}(t,i)\\hat{\\beta}(t+1,j) p(x)}{c(t+1)}$$"
   ]
  },
  {
   "cell_type": "markdown",
   "metadata": {},
   "source": [
    "## Update equations of the EM algorithm with scaling\n",
    "\n",
    "$$ \\pi_i = \\frac{1}{N} \\sum_{n=1}^N \\hat{\\alpha}_n(1,i)\\hat{\\beta}_n(1,i)$$\n",
    "$$ A(i,j) = \\frac{\\sum_{n=1}^N \\sum_{t=1}^{T_n-1} \\frac{\\hat{\\alpha}_n(t,i)\\hat{\\beta}_n(t+1,j)}{c(t+1)} A(i,j) B(j, x_n(t+1))}{\\sum_{n=1}^N \\sum_{t=1}^{T_n-1} \\hat{\\alpha}_n(t,i)\\hat{\\beta}_n(t,i)}$$\n",
    "$$ B(j,k) = \\frac{\\sum_{n=1}^N \\sum_{t=1}^{T_n} \\hat{\\alpha}_n(t,j)\\hat{\\beta}_n(t,j) \\text{  if  } x_n(t)=k \\text{  else  } 0}{\\sum_{n=1}^N \\sum_{t=1}^{T_n} \\hat{\\alpha}_n(t,j)\\hat{\\beta}_n(t,j)}$$\n",
    "\n",
    "The probability of observation is now implicitly included in the hatted variables."
   ]
  },
  {
   "cell_type": "code",
   "execution_count": 1,
   "metadata": {},
   "outputs": [],
   "source": [
    "import numpy as np\n",
    "import matplotlib.pyplot as plt"
   ]
  },
  {
   "cell_type": "markdown",
   "metadata": {},
   "source": [
    "## Class HMM that fits the parameters and makes an inference"
   ]
  },
  {
   "cell_type": "code",
   "execution_count": 2,
   "metadata": {},
   "outputs": [],
   "source": [
    "# create a valid random markov matrix\n",
    "def random_normalized(dim1, dim2):\n",
    "    \"\"\"\n",
    "    Creates a matrix of random numbers that are compatible with Markov\n",
    "    (namely, they rows sum up to 1)\n",
    "    \"\"\"\n",
    "    random_matrix = np.random.rand(dim1, dim2)\n",
    "    #divide by sum over rows to make rows add up to 1 (Markov matrix)\n",
    "    return random_matrix/random_matrix.sum(axis=1, keepdims=True)"
   ]
  },
  {
   "cell_type": "code",
   "execution_count": 3,
   "metadata": {},
   "outputs": [],
   "source": [
    "# class HMM\n",
    "class HMM:\n",
    "    def __init__(self, num_hidden_states):\n",
    "        self.M = num_hidden_states\n",
    "\n",
    "    def fit(self, X: np.ndarray, max_iter: int = 30, verbose: bool=False):\n",
    "        \"\"\"\n",
    "        Parameters:\n",
    "            max_iter: maximum number of EM iterations to allow\n",
    "            X: stores a set of observed sequences as rows.\n",
    "        \"\"\"\n",
    "        # include seed for reproducibility\n",
    "        np.random.seed(123)\n",
    "\n",
    "        # vocabulary size (classes from 0 to V-1)\n",
    "        # (number of x states = K is the maximum number \n",
    "        # of states in the training set found for a sequence)\n",
    "        vocab_size = max(max(x) for x in X) + 1 \n",
    "        num_sequences = len(X)\n",
    "\n",
    "        # initialize pi, A and B\n",
    "        self.pi = np.ones(self.M)/self.M # uniform distirbution for pi\n",
    "        self.A = random_normalized(self.M, self.M)\n",
    "        self.B = random_normalized(self.M, vocab_size)\n",
    "        # store cost\n",
    "        costs = list()\n",
    "        for it in range(max_iter):\n",
    "            #if it % 10 == 0:\n",
    "            #    print('it:', it)\n",
    "            alphas = list()\n",
    "            betas = list()\n",
    "            P = np.zeros(num_sequences) # probabilities\n",
    "            # loop through observations\n",
    "            for n in range(num_sequences):\n",
    "                x = X[n] # n-th sequence\n",
    "                T = len(x) # T_n\n",
    "\n",
    "                #### Compute alpha[t]: forward algorithm\n",
    "                alpha = np.zeros((T, self.M))\n",
    "                alpha[0] = self.pi * self.B[:, x[0]]\n",
    "                for t in range(1, T):\n",
    "                    # * is the element by element multiplication\n",
    "                    alpha[t] = alpha[t-1].dot(self.A) * self.B[:, x[t]]\n",
    "                P[n] = alpha[-1].sum() # probability of a sequence\n",
    "                alphas.append(alpha)\n",
    "\n",
    "                #### Compute beta[t]: backward algorithm\n",
    "                beta = np.zeros((T, self.M))\n",
    "                beta[-1] = 1\n",
    "                for t in range(T-2,-1,-1): # go backwards\n",
    "                    beta[t] = self.A.dot(self.B[:, x[t+1]] * beta[t+1])\n",
    "                betas.append(beta)\n",
    "\n",
    "            #compute cost\n",
    "            cost = np.sum(np.log(P))\n",
    "            costs.append(cost)\n",
    "\n",
    "            #### Reestimate pi, A and B\n",
    "            self.pi = np.sum((alphas[n][0] * betas[n][0])/P[n] for n in range(num_sequences))/num_sequences\n",
    "\n",
    "            denominator_1 = np.zeros((self.M,1))\n",
    "            denominator_2 = np.zeros((self.M,1))\n",
    "            a_num = 0\n",
    "            b_num = 0\n",
    "            for n in range(num_sequences):\n",
    "                x = X[n] # sequence\n",
    "                T = len(x) # T_n \n",
    "\n",
    "                denominator_1 += (alphas[n][:-1] * betas[n][:-1]).sum(axis=0, keepdims=True).T/P[n]\n",
    "                denominator_2 += (alphas[n] * betas[n]).sum(axis=0, keepdims=True).T/P[n]\n",
    "\n",
    "                # nth update for A numerator\n",
    "                a_num_n = np.zeros((self.M, self.M))\n",
    "                for i in range(self.M):\n",
    "                    for j in range(self.M):\n",
    "                        for t in range(T-1):\n",
    "                            a_num_n[i,j] += alphas[n][t,i]*self.A[i,j]*self.B[j,x[t+1]] * betas[n][t+1,j]\n",
    "                a_num += a_num_n/P[n]\n",
    "\n",
    "                # nth update for B numerator\n",
    "                b_num_n = np.zeros((self.M, vocab_size))\n",
    "                for i in range(self.M):\n",
    "                    for j in range(vocab_size):\n",
    "                        for t in range(T):\n",
    "                            if x[t] == j:\n",
    "                                b_num_n[i,j] += alphas[n][t,i] * betas[n][t,i]\n",
    "                b_num += b_num_n/P[n]\n",
    "\n",
    "            # update A and B\n",
    "            self.A = a_num/denominator_1\n",
    "            self.B = b_num/denominator_2\n",
    "\n",
    "            #self.alphas = alphas\n",
    "            #self.betas = betas\n",
    "            ## print & plot final estimates/costs\n",
    "            if verbose:\n",
    "                print('ITERATION:', it)\n",
    "                print(\"A:\", self.A)\n",
    "                print('check A:', self.A.sum(axis=1))\n",
    "                print(\"B:\", self.B)\n",
    "                print('check B:', self.B.sum(axis=1))\n",
    "                print(\"pi:\", self.pi)\n",
    "                print('check pi:', self.pi.sum())\n",
    "        self.alphas = alphas\n",
    "        self.betas = betas\n",
    "\n",
    "        # plot costs\n",
    "        #plt.plot(costs)\n",
    "        #plt.show()\n",
    "\n",
    "    def likelihood(self, x):\n",
    "        '''\n",
    "        Computes the probability (likelihood) of a sequence\n",
    "        by means of the forwards algorithm\n",
    "        '''\n",
    "        T = len(x) # T_n\n",
    "\n",
    "        #### Compute alpha[t]: forward algorithm\n",
    "        alpha = np.zeros((T, self.M))\n",
    "        alpha[0] = self.pi * self.B[:, x[0]]\n",
    "        for t in range(1, T):\n",
    "            # * is the element by element multiplication\n",
    "            alpha[t] = alpha[t-1].dot(self.A) * self.B[:, x[t]]\n",
    "        return alpha[-1].sum()\n",
    "\n",
    "    def likelihood_multi(self, X):\n",
    "        '''\n",
    "        Computes the probability (likelihood) for all the\n",
    "        observations (sequences)\n",
    "        '''\n",
    "        return np.array([self.likelihood(x) for x in X])\n",
    "\n",
    "    def log_likelihood_multi(self, X):\n",
    "        '''\n",
    "        Computes the log likelihood of all the observations\n",
    "        '''\n",
    "        return np.log(self.likelihood_multi(X))\n",
    "\n",
    "    def get_state_sequence(self, x):\n",
    "        '''\n",
    "        Computes the most probable set of hidden states given \n",
    "        observation sequence x using the Viterbi algorithm\n",
    "        '''\n",
    "        T = len(x)\n",
    "        delta = np.zeros((T, self.M))\n",
    "        psi = np.zeros((T, self.M))\n",
    "        delta[0] = self.pi * self.B[:, x[0]]\n",
    "        for t in range(1,T):\n",
    "            for j in range(self.M):\n",
    "                delta[t,j] = np.max(delta[t-1]*self.A[:,j])*self.B[j, x[t]]\n",
    "                psi[t,j] = np.argmax(delta[t-1]*self.A[:,j])\n",
    "\n",
    "        ### Backtrack\n",
    "        states = np.zeros(T, dtype=np.int32)\n",
    "        states[T-1] = np.argmax(delta[T-1])\n",
    "        for t in range(T-2,-1,-1):\n",
    "            states[t] = psi[t+1, states[t+1]]\n",
    "\n",
    "        return states"
   ]
  },
  {
   "cell_type": "markdown",
   "metadata": {},
   "source": [
    "Train the HMM in a dataset of sequences of coin flips with heads (`H`) or tails (`T`) generated with the following parameters:\n",
    "\n",
    "$$\n",
    "\\pi = (0.5,0.5).T\\\\\n",
    "A = \\begin{pmatrix}\n",
    "0.1 & 0.9 \\\\\n",
    "0.8 & 0.2 \n",
    "\\end{pmatrix}\\\\\n",
    "\n",
    "B = \\begin{pmatrix}\n",
    "0.6 & 0.4\\\\\n",
    "0.3 & 0.7\n",
    "\\end{pmatrix}\n",
    "$$\n",
    "\n",
    "The file is called `coin_data.txt` and can be found in \n",
    "\n",
    "https://github.com/lazyprogrammer/machine_learning_examples/blob/master/hmm_class/coin_data.txt"
   ]
  },
  {
   "cell_type": "code",
   "execution_count": 4,
   "metadata": {},
   "outputs": [],
   "source": [
    "def fit_coin():\n",
    "    '''\n",
    "    Create training set from coin_data.txt file\n",
    "    and fit a HMM with it\n",
    "    '''\n",
    "    X = list()\n",
    "    for line in open('coin_data.txt'):\n",
    "        x = [1 if elm == 'H' else 0 for elm in line.rstrip()]\n",
    "        X.append(x)\n",
    "\n",
    "    hmm = HMM(2)\n",
    "    hmm.fit(X,max_iter=100)\n",
    "    L = hmm.log_likelihood_multi(X).sum()\n",
    "\n",
    "    print(\"log likelihood after fitting:\", L)\n",
    "    \n",
    "    # set HMM to the actual values that generated the series\n",
    "    # of coin flips\n",
    "    hmm.pi = np.array([0.5, 0.5])\n",
    "    hmm.A = np.array([[0.1, 0.9], [0.8, 0.2]])\n",
    "    hmm.B = np.array([[0.6, 0.4], [0.3, 0.7]])\n",
    "    L = hmm.log_likelihood_multi(X).sum()\n",
    "    print(\"log likelihood of real generating model:\", L)\n",
    "\n",
    "    # try Viterbi on training set\n",
    "    print(\"best state sequence for \", X[0])\n",
    "    print(hmm.get_state_sequence(X[0]))"
   ]
  },
  {
   "cell_type": "code",
   "execution_count": 86,
   "metadata": {},
   "outputs": [
    {
     "name": "stdout",
     "output_type": "stream",
     "text": [
      "initial values: [0.5 0.5] [[0.7087962  0.2912038 ]\n",
      " [0.29152056 0.70847944]] [[0.62969057 0.37030943]\n",
      " [0.58883752 0.41116248]]\n",
      "it: 0\n",
      "it: 10\n"
     ]
    },
    {
     "name": "stderr",
     "output_type": "stream",
     "text": [
      "/tmp/ipykernel_1644/389656226.py:60: DeprecationWarning: Calling np.sum(generator) is deprecated, and in the future will give a different result. Use np.sum(np.fromiter(generator)) or the python sum builtin instead.\n",
      "  self.pi = np.sum((alphas[n][0] * betas[n][0])/P[n] for n in range(num_sequences))/num_sequences\n"
     ]
    },
    {
     "name": "stdout",
     "output_type": "stream",
     "text": [
      "it: 20\n",
      "it: 30\n",
      "it: 40\n",
      "it: 50\n",
      "it: 60\n",
      "it: 70\n",
      "it: 80\n",
      "it: 90\n",
      "ITERATION: 99\n",
      "A: [[0.70371831 0.29628169]\n",
      " [0.28697428 0.71302572]]\n",
      "check A: [1. 1.]\n",
      "B: [[0.54110179 0.45889821]\n",
      " [0.54024348 0.45975652]]\n",
      "check B: [1. 1.]\n",
      "pi: [0.51003807 0.48996193]\n",
      "check pi: 1.0000000000000002\n"
     ]
    },
    {
     "data": {
      "image/png": "[encoded data removed]",
      "text/plain": [
       "<Figure size 432x288 with 1 Axes>"
      ]
     },
     "metadata": {
      "needs_background": "light"
     },
     "output_type": "display_data"
    },
    {
     "name": "stdout",
     "output_type": "stream",
     "text": [
      "log likelihood after fitting: -1034.7539242965554\n",
      "log likelihood of real generating model: -1059.7229160265022\n",
      "best state sequence for  [0, 1, 0, 1, 0, 1, 1, 1, 0, 0, 0, 0, 0, 1, 0, 1, 0, 1, 0, 1, 0, 0, 1, 1, 1, 1, 0, 0, 0, 1]\n",
      "[0 1 0 1 0 1 0 1 0 1 0 1 0 1 0 1 0 1 0 1 0 1 0 1 0 1 0 1 0 1]\n"
     ]
    }
   ],
   "source": [
    "fit_coin()"
   ]
  },
  {
   "cell_type": "markdown",
   "metadata": {},
   "source": [
    "The problem with the above algorithms is *underflow*: after all, $\\alpha$ and $\\beta$ are small numbers ($<1$) and hence, for long sequences, the training algorithm will lead to zero for $\\alpha$ really soon, meaning that all multiplications will be zero from that point on. To solve this issue, we will do the following:\n",
    "\n",
    "- For the Viterbi algorithm we will use logs, since it only involve multiplications. Hence, we turn the multiplications into sums and avoid the underflow problem.\n",
    "\n",
    "- For the Baum-Welch algorithm, we will use scaling. For this, we will use a scale factor $c_t\\,, t=1,...,T$"
   ]
  },
  {
   "cell_type": "markdown",
   "metadata": {},
   "source": [
    "## Tensorization\n",
    "\n",
    "Trying to run the forward and backward algorithms in general for an arbitrary sequence of length 30 (such as the one here) leads to an out-of-memory situation. \n",
    "We will therefore substitute the value of the sequence at each timestep."
   ]
  },
  {
   "cell_type": "code",
   "execution_count": 5,
   "metadata": {},
   "outputs": [],
   "source": [
    "import numpy as np\n",
    "from typing import Union, Optional, List"
   ]
  },
  {
   "cell_type": "code",
   "execution_count": 6,
   "metadata": {},
   "outputs": [],
   "source": [
    "# create a valid random markov matrix\n",
    "def random_normalized(dim1, dim2):\n",
    "    \"\"\"\n",
    "    Creates a matrix of random numbers that are compatible with Markov\n",
    "    (namely, they rows sum up to 1)\n",
    "    \"\"\"\n",
    "    random_matrix = np.random.rand(dim1, dim2)\n",
    "    #divide by sum over rows to make rows add up to 1 (Markov matrix)\n",
    "    return random_matrix/random_matrix.sum(axis=1, keepdims=True)\n",
    "\n",
    "def load_data(data_path='./coin_data.txt'):\n",
    "    X = list()\n",
    "    for line in open(data_path):\n",
    "        x = [1 if elm == 'H' else 0 for elm in line.rstrip()]\n",
    "        X.append(x)\n",
    "    return np.array(X)\n",
    "\n",
    "def generate_initial_parameters(vocab_size,\n",
    "                                num_hidden_states,\n",
    "                                random_seed=True):\n",
    "    if random_seed:\n",
    "        np.random.seed(123)\n",
    "\n",
    "    # initialize pi, A and B\n",
    "    pi = (np.ones(num_hidden_states)/num_hidden_states).reshape(num_hidden_states,1) # uniform distirbution for pi\n",
    "    A = random_normalized(num_hidden_states,num_hidden_states)\n",
    "    B = random_normalized(num_hidden_states, vocab_size)\n",
    "\n",
    "    return pi, A, B"
   ]
  },
  {
   "cell_type": "code",
   "execution_count": 7,
   "metadata": {},
   "outputs": [
    {
     "name": "stdout",
     "output_type": "stream",
     "text": [
      "(50, 30)\n"
     ]
    }
   ],
   "source": [
    "X_data = load_data()\n",
    "print(X_data.shape) # 50 samples of 30 timesteps each\n",
    "VOCAB_SIZE = max(max(x) for x in X_data) + 1 # 2 different observable states\n",
    "NUM_SEQS, SEQ_LENGTH = X_data.shape\n",
    "M_ = 2 # assume 2-dim hidden space"
   ]
  },
  {
   "cell_type": "markdown",
   "metadata": {},
   "source": [
    "### Forward algotihm for fixed input sequence\n",
    "\n",
    "Note for example that $$ \\alpha(t=1, j) = \\pi_j B(j, x_1)\\,,$$ where $x_1$ is just the observation associated to the first timestep. We will substitute explicitly this observation. Now, our dataset does not contain only one observation, but $N = 50$ of them. To vectorize everything, we will substitute the $N$ samples of $x_1$ observed.\n",
    "\n",
    "This logic will be applied to the recursive algorithm as well."
   ]
  },
  {
   "cell_type": "code",
   "execution_count": 8,
   "metadata": {},
   "outputs": [],
   "source": [
    "def alpha_initial(input_sequences: np.ndarray, \n",
    "                    pi: Union[List, np.ndarray], \n",
    "                    B: Union[List, np.ndarray]) -> np.ndarray:\n",
    "    '''\n",
    "    Computes the value of alpha associated to initial time t=1\n",
    "    \n",
    "    Parameters\n",
    "        input_sequences: np.ndarray\n",
    "            Input set of sequences, i.e. the training data\n",
    "        pi: Union[List, np.ndarray]\n",
    "            Initial vector of probabilities (i.e. p(z_1)) for each possible state of z_1\n",
    "        B:  Union[List, np.ndarray]\n",
    "            time-independent matrix of transition probabiltiies p(x_t|z_t) for each x- and z-states\n",
    "\n",
    "    Return\n",
    "        np.ndarray: initial value of alpha (namely, alpha_1)\n",
    "    '''\n",
    "    assert np.isclose(np.sum(pi), 1), \"the sum of probabilities of initial latent states must add up to 1\"\n",
    "    assert (np.isclose(B.sum(axis=1), 1)).all(), \"the total probability of a given observed state must be 1\"\n",
    "    # element-wise product with B evaluated on x(t=1) for all the rows (all the samples) at once\n",
    "    # alpha_initial will end up having dimension M x N, where N is the total number of samples\n",
    "    return np.multiply(pi, B[:,X_data[:,0]])\n",
    "\n",
    "def beta_initial(A_dim: int, num_sequences: int) -> np.ndarray:\n",
    "    '''\n",
    "    Computes the value of beta associated to initial time t=T\n",
    "\n",
    "    Parameters\n",
    "        A_dim: int\n",
    "            dimension of matrix A (namely, M in the above notation)\n",
    "\n",
    "    Return\n",
    "        np.ndarray: initial value of beta (namely, beta_1)\n",
    "    '''\n",
    "    return np.ones(shape=(A_dim, num_sequences)) # column vector of ones (one component per each z-state)\n",
    "\n",
    "\n",
    "def forward_algo_input_fixed(\n",
    "                    input_sequences: np.ndarray, \n",
    "                    A: Union[List, np.ndarray], \n",
    "                    B: Union[List, np.ndarray], \n",
    "                    alpha_ini: np.ndarray\n",
    "                    ) -> List[np.ndarray]:\n",
    "\n",
    "    ''' \n",
    "    This is the forward algorithm as implemented in notebook forward_algo.ipynb\n",
    "    but with the input sequences evaluated whenever possible to make the problem\n",
    "    computationally light\n",
    "\n",
    "    Parameters\n",
    "        input_sequences: np.ndarray\n",
    "            Input set of sequences, i.e. the training data\n",
    "        A:  Union[List, np.ndarray]\n",
    "            Initial vector of probabilities (i.e. p(z_1)) for each possible state of z_1\n",
    "        B:  Union[List, np.ndarray]\n",
    "            time-independent matrix of transition probabiltiies p(x_t|z_t) for each x- and z-states\n",
    "        alpha_ini: np,ndarray\n",
    "            The value of alpha(t=1, z_1)\n",
    "    Return\n",
    "        List[np.ndarray]: list of alphas of the form \n",
    "        [alpha(t=1, z_1),..., alpha(t=T-1, z_{T-1}), alpha(t=T, z_T)]\n",
    "    '''\n",
    "    sequence_length = input_sequences.shape[1]\n",
    "    A = np.array(A)\n",
    "    B = np.array(B)\n",
    "    assert isinstance(sequence_length, int), 'the length of the sequence must be an integer number'\n",
    "    assert alpha_ini.shape[0] == A.shape[0], 'the length of the first axis of alpha_ini must be the rows of A'\n",
    "\n",
    "    alphas_list = [alpha_ini] \n",
    "    for t_ in range(1,sequence_length):\n",
    "        # np.einsum('ij,il->jl', A, alphas_list[t_-1]) gives the first part of the algorithm\n",
    "        # factor1_jt = sum_i A_ij alpha(i,t) -> shape M x N\n",
    "        # The second part of the formula np.multiply(B[:, input_sequences[:,t_]], factor1)\n",
    "        # gives B(j, x_t) * factor1_jt\n",
    "        alphas_list.append(np.multiply(B[:, input_sequences[:,t_]], \n",
    "                                        np.einsum('ij,il->jl', A, alphas_list[t_-1])))\n",
    "    #alpha list has shape T x M x N\n",
    "    return np.array(alphas_list)\n",
    "\n",
    "def backward_algo_input_fixed(input_sequences: np.ndarray, \n",
    "                    A: Union[List, np.ndarray], \n",
    "                    B: Union[List, np.ndarray], \n",
    "                    beta_ini: np.ndarray\n",
    "                    ) -> List[np.ndarray]:\n",
    "\n",
    "    '''\n",
    "    Computes a set of alphas following the (recursive) forward algorithm\n",
    "\n",
    "    Parameters\n",
    "        input_sequences: np.ndarray\n",
    "            Input set of sequences, i.e. the training data\n",
    "        A:  Union[List, np.ndarray]\n",
    "            Initial vector of probabilities (i.e. p(z_1)) for each possible state of z_1\n",
    "        B:  Union[List, np.ndarray]\n",
    "            time-independent matrix of transition probabiltiies p(x_t|z_t) for each x- and z-states\n",
    "        alpha_ini: np,ndarray\n",
    "            The value of alpha(t=1, z_1)\n",
    "    Return\n",
    "        List[np.ndarray]: list of betas of the form \n",
    "        [beta(t=1, z_1), ..., beta(t=T-1, z_{T-1}), beta(t=T, z_T)]\n",
    "    '''\n",
    "    sequence_length = input_sequences.shape[1]\n",
    "    A = np.array(A)\n",
    "    B = np.array(B)\n",
    "    assert isinstance(sequence_length, int), 'the length of the sequence must be an integer number'\n",
    "    assert beta_ini.shape[0] == A.shape[0], 'the length of the first axis of beta_ini must be the rows of A'\n",
    "\n",
    "    # initialize betas list\n",
    "    betas_list = [0]*sequence_length\n",
    "    betas_list[-1] = beta_ini #beta_ini will be a M x N matrix of 1s\n",
    "    for t_ in reversed(range(1,sequence_length)):\n",
    "        # note that we don't use t+1 when indexing beta because \n",
    "        # python starts counting indexes from 0: reversed(range(0,sequence_length))\n",
    "        # goes from sequence_length-1 to 0. The last index of betas_list\n",
    "        # is also sequence_length-1\n",
    "        exps1 = np.einsum('ij,js,jl->isl', A, B[:, input_sequences[:,t_]], betas_list[t_])\n",
    "        # force (column of B) = (column of betas_list[t_]) = x_{t+1}  \n",
    "        # i.e pick diagonal for first and last indices: s = l above, without summing over s!\n",
    "        betas_list[t_-1] = np.diagonal(exps1, axis1=len(exps1.shape)-2, axis2=len(exps1.shape)-1)\n",
    "        # note that index associated to z is first index of beta\n",
    "        # (this is so also for beta_ini)\n",
    "    return np.array(betas_list)\n",
    "\n",
    "def probability_fixed_input_sequence(alpha: np.ndarray):\n",
    "    '''\n",
    "    Computes the probability of a fixed sequence of x states given an alpha \n",
    "    (this alpha is suppossed to correspond to alpha(t=T, z_T))\n",
    "\n",
    "    Parameters:\n",
    "        alpha: np.ndarray\n",
    "            A tensor with dimensions (M, K, K,...,K)\n",
    "    Returns:\n",
    "        np.ndarray:\n",
    "            A tensor with dimension (K, K,...,K)\n",
    "    '''\n",
    "    # sum alpha along the first direction (that would correspond to z_T)\n",
    "    # returns probability for arbitrary set of x\n",
    "    # (note the ordering: ijk... will correspond to x_T, x_{T-1}, x_{T-2},...)\n",
    "    #return alpha.sum(axis=0)\n",
    "    return np.einsum('i...->...', alpha)"
   ]
  },
  {
   "cell_type": "code",
   "execution_count": 9,
   "metadata": {},
   "outputs": [],
   "source": [
    "pi_, A_, B_ = generate_initial_parameters(vocab_size=VOCAB_SIZE, num_hidden_states=M_)"
   ]
  },
  {
   "cell_type": "markdown",
   "metadata": {},
   "source": [
    "**Example: Forward algorithm**\n",
    "\n",
    "For a given sequence (given row) \n",
    "\n",
    "$$B(i,x_2) \\rightarrow M \\times 1$$\n",
    "$$ \\alpha(t=1,i) \\rightarrow M \\times 1$$\n",
    "$$ A(j,i) \\rightarrow M \\times M$$\n",
    "Recall that:\n",
    "$$\\alpha(t+1, i) = B(i, x_{t+1}) \\sum_j^M A(j,i) \\alpha(t, j)$$"
   ]
  },
  {
   "cell_type": "code",
   "execution_count": 14,
   "metadata": {},
   "outputs": [],
   "source": [
    "alpha_ini = alpha_initial(X_data, pi_, B_)"
   ]
  },
  {
   "cell_type": "code",
   "execution_count": 8,
   "metadata": {},
   "outputs": [
    {
     "data": {
      "text/plain": [
       "0.17681246697497588"
      ]
     },
     "execution_count": 8,
     "metadata": {},
     "output_type": "execute_result"
    }
   ],
   "source": [
    "# Example: \n",
    "# third sequence (n=3) only for z=2 (i.e. alpha(t=2, z=2))\n",
    "assd=0\n",
    "for i in range(2):\n",
    "    assd += A_[i,1]*alpha_ini[i,2] #z, t and n start from 0!\n",
    "\n",
    "B_[1, X_data[2,1]]*assd"
   ]
  },
  {
   "cell_type": "code",
   "execution_count": 15,
   "metadata": {},
   "outputs": [
    {
     "data": {
      "text/plain": [
       "0.17681246697497588"
      ]
     },
     "execution_count": 15,
     "metadata": {},
     "output_type": "execute_result"
    }
   ],
   "source": [
    "# compute the full list of alphas for all N\n",
    "alpha_list = forward_algo_input_fixed(X_data, A_, B_, alpha_ini)\n",
    "alpha_list[1][1,2] #alpha for t=2, z=2 and n=3"
   ]
  },
  {
   "cell_type": "code",
   "execution_count": 10,
   "metadata": {},
   "outputs": [],
   "source": [
    "assert B_[1, X_data[2,1]]*assd == alpha_list[1][1,2] #alpha for t=2, z=2 and n=3"
   ]
  },
  {
   "cell_type": "code",
   "execution_count": 11,
   "metadata": {},
   "outputs": [],
   "source": [
    "assert (probability_fixed_input_sequence(alpha_list[-1]) > 0).all()\n",
    "assert (probability_fixed_input_sequence(alpha_list[-1]) < 1).all()"
   ]
  },
  {
   "cell_type": "code",
   "execution_count": 16,
   "metadata": {},
   "outputs": [],
   "source": [
    "prob = probability_fixed_input_sequence(alpha_list[-1])"
   ]
  },
  {
   "cell_type": "markdown",
   "metadata": {},
   "source": [
    "**Example: Backward algorithm**\n",
    "\n",
    "For a given sequence \n",
    "\n",
    "$$B(i,x_{29}) \\rightarrow M \\times 1$$\n",
    "$$ \\beta(t=T,i) \\rightarrow M \\times 1$$\n",
    "$$ A(j,i) \\rightarrow M \\times M$$\n",
    "Recall that:\n",
    "$$\\beta(t, i) = \\sum_j^M A(i,j)B(j, x_{t+1})\\beta(t+1, j)$$"
   ]
  },
  {
   "cell_type": "code",
   "execution_count": 17,
   "metadata": {},
   "outputs": [
    {
     "data": {
      "text/plain": [
       "(2, 50)"
      ]
     },
     "execution_count": 17,
     "metadata": {},
     "output_type": "execute_result"
    }
   ],
   "source": [
    "beta_ini = beta_initial(M_, NUM_SEQS)\n",
    "beta_ini.shape"
   ]
  },
  {
   "cell_type": "code",
   "execution_count": 14,
   "metadata": {},
   "outputs": [
    {
     "data": {
      "text/plain": [
       "0.6007470210010455"
      ]
     },
     "execution_count": 14,
     "metadata": {},
     "output_type": "execute_result"
    }
   ],
   "source": [
    "# z=2, n=3, t=29 from  beta_ini (recall that beta_ini corresponds to t=T=30)\n",
    "basse = 0\n",
    "for j in range(M_):\n",
    "    basse += A_[1,j]*B_[j, X_data[2,-1]]*beta_ini[j, 2]\n",
    "basse"
   ]
  },
  {
   "cell_type": "code",
   "execution_count": 18,
   "metadata": {},
   "outputs": [
    {
     "data": {
      "text/plain": [
       "0.6007470210010455"
      ]
     },
     "execution_count": 18,
     "metadata": {},
     "output_type": "execute_result"
    }
   ],
   "source": [
    "beta_list = backward_algo_input_fixed(X_data, A_, B_, beta_ini)\n",
    "beta_list[-2][1,2] # dimension T x M x N"
   ]
  },
  {
   "cell_type": "code",
   "execution_count": 16,
   "metadata": {},
   "outputs": [],
   "source": [
    "assert basse == beta_list[-2][1,2]"
   ]
  },
  {
   "cell_type": "markdown",
   "metadata": {},
   "source": [
    "## Update $\\pi$ \n"
   ]
  },
  {
   "cell_type": "code",
   "execution_count": 19,
   "metadata": {},
   "outputs": [],
   "source": [
    "def update_pi(alpha_list: np.ndarray, beta_list: np.ndarray) -> np.ndarray:\n",
    "    '''\n",
    "    Formula to update \\pi according to Baum Welch\n",
    "\n",
    "    Three equivalent ways\n",
    "\n",
    "    Method 1: \n",
    "        np.multiply(beta_list[0]/prob,alpha_list[0]).mean(axis=1)\n",
    "        \n",
    "    Method 2:\n",
    "        llo = 0\n",
    "        for n in range(NUM_SEQS):\n",
    "            llo += beta_list[0][:,n] * alpha_list[0][:, n]/prob[n]\n",
    "        llo/NUM_SEQS\n",
    "\n",
    "    Method 3:\n",
    "        ss = np.diag(np.einsum('ij,lj', beta_list[0]/prob, alpha_list[0]))\n",
    "        ss/NUM_SEQS\n",
    "\n",
    "    Parameters:\n",
    "        alpha_list: np.ndarray\n",
    "            A tensor with dimensions (T, M, N)\n",
    "        beta_list: np.ndarray\n",
    "            A tensor with dimensions (T, M, N)\n",
    "    Returns:\n",
    "        np.ndarray:\n",
    "            A tensor with dimension (M, 1)\n",
    "    '''\n",
    "    prob = probability_fixed_input_sequence(alpha_list[-1])\n",
    "    return (np.multiply(beta_list[0]/prob, alpha_list[0]).mean(axis=1)).reshape(beta_list.shape[1],1)"
   ]
  },
  {
   "cell_type": "code",
   "execution_count": 20,
   "metadata": {},
   "outputs": [
    {
     "name": "stderr",
     "output_type": "stream",
     "text": [
      "/tmp/ipykernel_241/3611249952.py:59: DeprecationWarning: Calling np.sum(generator) is deprecated, and in the future will give a different result. Use np.sum(np.fromiter(generator)) or the python sum builtin instead.\n",
      "  self.pi = np.sum((alphas[n][0] * betas[n][0])/P[n] for n in range(num_sequences))/num_sequences\n"
     ]
    }
   ],
   "source": [
    "hmm = HMM(2)\n",
    "hmm.pi = pi_\n",
    "hmm.A = A_\n",
    "hmm.B = B_\n",
    "hmm.fit(X_data, max_iter=1)"
   ]
  },
  {
   "cell_type": "markdown",
   "metadata": {},
   "source": [
    "## Update A\n",
    "\n",
    "$$ \n",
    "\n",
    "A_{ij} = \\frac{\\sum_{n=1}^N \\frac{1}{P_n} \\sum_{t=1}^{T_n-1}\\alpha_n(t,i)A_{ij}B_{j, x_n(t+1)}\\beta_n(t+1,j)}{\\sum_{n=1}^N \\frac{1}{P_n} \\sum_{t=1}^{T_n-1}\\alpha_n(t,i)\\beta_n(t,i)}\\,,\\\\\n",
    "\n",
    "$$"
   ]
  },
  {
   "cell_type": "code",
   "execution_count": 21,
   "metadata": {},
   "outputs": [],
   "source": [
    "def update_A(input_sequences: np.ndarray, \n",
    "            alpha_list: np.ndarray, \n",
    "            beta_list: np.ndarray,\n",
    "            A_old: np.ndarray,\n",
    "            B_old: np.ndarray) -> np.ndarray:\n",
    "\n",
    "    prob = probability_fixed_input_sequence(alpha_list[-1])\n",
    "\n",
    "    # be careful with reshape! It does not move axis directly!\n",
    "    # use np.moveaxis to turn shape (a,b,c) into (b,c,a), for example\n",
    "    # turn dimension of B_old[:, input_sequences[:,1:]] into shape of beta_list[1:,:,:]\n",
    "    interm_ = np.moveaxis(B_old[:, input_sequences[:,1:]],-1,0)\n",
    "    # note that in the formula B(j,x_{n,t+1}) involves th eexact same indices as\n",
    "    # beta_n(t,j), so we can multiply element by element\n",
    "    # also divide by P_n straight away (see formula)\n",
    "    beta_B = (interm_*beta_list[1:,:,:]/prob)\n",
    "\n",
    "    # We use the X[1:,:,:] in the indices to denote that what enters is t+1\n",
    "\n",
    "    # A_{ij} does not involve t, n, so we move it away from sums\n",
    "    # sum in t goes from t=1 to T-1. This involves using alpha_list[:-1,:,:]\n",
    "    # (t+1) goes from 1 to T, that explain the indices of B and beta above\n",
    "    # alpha coes with index z=i and beta_B with z=j, that is why those indices\n",
    "    # remain free to match with A_old{ij}\n",
    "    numerator = A_old*np.einsum('ijk,irk->jr', alpha_list[:-1,:,:], beta_B) # dim MxM\n",
    "    '''\n",
    "    Another way:\n",
    "        numerator = np.einsum('ijk,lm,nki,irk->jlmnr', alpha_list[:-1,:,:], A_, B_[:, input_sequences[:,1:]], beta_list[1:,:,:]/prob)\n",
    "        numerator = np.diagonal(numerator, axis1=0, axis2=1)\n",
    "        numerator = np.diagonal(numerator, axis1=0, axis2=1)\n",
    "        numerator = np.diagonal(numerator, axis1=0, axis2=len(numerator.shape)-1)\n",
    "    '''\n",
    "    denominator = np.diag(np.einsum('ikj,isj->ks', alpha_list[:-1,:,:], beta_list[:-1,:,:]/prob)) # dim M \n",
    "\n",
    "    # see formula: we want numerator[i,j]/denominator[i]\n",
    "    #reshape denominator to acquire dimension Mx1\n",
    "    return numerator/denominator.reshape(denominator.shape[0],1)"
   ]
  },
  {
   "cell_type": "code",
   "execution_count": 22,
   "metadata": {},
   "outputs": [
    {
     "ename": "TypeError",
     "evalue": "update_A() missing 2 required positional arguments: 'A_old' and 'B_old'",
     "output_type": "error",
     "traceback": [
      "\u001b[0;31m---------------------------------------------------------------------------\u001b[0m",
      "\u001b[0;31mTypeError\u001b[0m                                 Traceback (most recent call last)",
      "\u001b[0;32m/tmp/ipykernel_241/3789288382.py\u001b[0m in \u001b[0;36m<module>\u001b[0;34m\u001b[0m\n\u001b[0;32m----> 1\u001b[0;31m \u001b[0mupdate_A\u001b[0m\u001b[0;34m(\u001b[0m\u001b[0mX_data\u001b[0m\u001b[0;34m,\u001b[0m \u001b[0malpha_list\u001b[0m\u001b[0;34m,\u001b[0m \u001b[0mbeta_list\u001b[0m\u001b[0;34m)\u001b[0m\u001b[0;34m\u001b[0m\u001b[0;34m\u001b[0m\u001b[0m\n\u001b[0m",
      "\u001b[0;31mTypeError\u001b[0m: update_A() missing 2 required positional arguments: 'A_old' and 'B_old'"
     ]
    }
   ],
   "source": [
    "update_A(X_data, alpha_list, beta_list)"
   ]
  },
  {
   "cell_type": "markdown",
   "metadata": {},
   "source": [
    "## Update B\n",
    "\n",
    "$$\n",
    "B_{jk} = \\frac{\\sum_{n=1}^N \\frac{1}{P_n} \\sum_{t=1}^{T_n}\\alpha_n(t,j)\\beta_n(t,j) \\mathbb{1}(x_n(t)=k)}{\\sum_{n=1}^N \\frac{1}{P_n} \\sum_{t=1}^{T_n}\\alpha_n(t,j)\\beta_n(t,j)}\\,,\n",
    "$$"
   ]
  },
  {
   "cell_type": "code",
   "execution_count": 23,
   "metadata": {},
   "outputs": [],
   "source": [
    "def update_B(input_sequences: np.ndarray, \n",
    "            alpha_list: np.ndarray, \n",
    "            beta_list: np.ndarray) -> np.ndarray:\n",
    "\n",
    "    prob = probability_fixed_input_sequence(alpha_list[-1])\n",
    "\n",
    "    vocab_size = max(max(x) for x in input_sequences) + 1\n",
    "    # define delta-type object, that is only 1 whenever k equals x_n(t)\n",
    "    mask_u = list()\n",
    "    for k_ in range(vocab_size):\n",
    "        # place 1. if condition is fullfilled, 0. otherwise\n",
    "        mask_u.append(np.where(input_sequences == k_, 1., 0.))\n",
    "    mask_u = np.array(mask_u) # dim KxNxT\n",
    "\n",
    "    # indices of alpha_list and beta_list coincide, so we can multiply elemen by element\n",
    "    unmasked_num = (alpha_list*beta_list/prob)\n",
    "    # mask numerator with mask_u\n",
    "    numerator = np.einsum('ijk,lki->jl', unmasked_num, mask_u) # dim MxK\n",
    "    #denominator is just the unmasked numerator summed over t and n\n",
    "    denominator = np.einsum('ijk->j', unmasked_num) # dim M \n",
    "\n",
    "    # see formula: we want numerator[j,k]/denominator[j]\n",
    "    #reshape denominator to acquire dimension Mx1\n",
    "    return numerator/denominator.reshape(denominator.shape[0],1)"
   ]
  },
  {
   "cell_type": "code",
   "execution_count": 24,
   "metadata": {},
   "outputs": [
    {
     "data": {
      "text/plain": [
       "array([[0.56095853, 0.43904147],\n",
       "       [0.52091592, 0.47908408]])"
      ]
     },
     "execution_count": 24,
     "metadata": {},
     "output_type": "execute_result"
    }
   ],
   "source": [
    "update_B(X_data, alpha_list, beta_list)"
   ]
  },
  {
   "cell_type": "markdown",
   "metadata": {},
   "source": [
    "## Tensorized Viterbi\n",
    "\n",
    "$$ \\delta(t=1, j) = \\pi(j) B(j,x_1)$$\n",
    "\n",
    "$$ \\delta(t, j) = \\text{max}_{i\\in \\{1,...,M\\}} \\left[\\delta(t-1,i) A(i,j)\\right] B(j, x_t)\\,, \\hspace{1cm} j=1,...,M $$\n",
    "\n",
    "$$p^* = \\text{max}_{i\\in \\{1,...,M\\}} \\delta (t=T, j) $$"
   ]
  },
  {
   "cell_type": "code",
   "execution_count": 72,
   "metadata": {},
   "outputs": [],
   "source": [
    "def viterbi(input_sequences: np.ndarray, \n",
    "            pi: np.ndarray,\n",
    "            A: np.ndarray,\n",
    "            B: np.ndarray) -> np.ndarray:\n",
    "    ''''\n",
    "    Apply a tensorized version of the Viterbi algorithm\n",
    "    \n",
    "    '''\n",
    "    sequence_length = input_sequences.shape[1]\n",
    "    A = np.array(A)\n",
    "    B = np.array(B)\n",
    "    pi = np.array(pi).reshape(B.shape[0], 1)\n",
    "\n",
    "    # define initial delta\n",
    "    delta_ini = np.multiply(pi, B[:, input_sequences[:, 0]]) # M x N\n",
    "\n",
    "    deltas_list = [delta_ini]\n",
    "    # initial psi = 0 with dim MxN\n",
    "    psis_list = [np.zeros(shape=(B.shape[0], input_sequences.shape[0]))] \n",
    "    for t_ in range(1,sequence_length):\n",
    "        # compute A(i,j)*delta(t-1, i) (no summation!) by first getting all indices\n",
    "        # and then picking the appropriate diagonal (axis=0 (i) with axis=2 (k))\n",
    "        extend_elmnt_prod = np.einsum('ij,kl->ijkl', A_, deltas_list[t_-1])\n",
    "        elmnt_prod = np.diagonal(extend_elmnt_prod, axis1=0, axis2=2) # M(j) x N x M(i)\n",
    "        # get maximum in the direction of i (axis=2)\n",
    "        max_elmnt_prod = np.max(elmnt_prod, axis=2) # M(j) x N\n",
    "        # multiply by B[:, input_sequences[:, t]] (also with dim = M x N)\n",
    "        # and append\n",
    "        deltas_list.append(np.multiply(max_elmnt_prod, \n",
    "                    B[:, input_sequences[:, t_]])) # element appended has dim= M x N\n",
    "        # append psi[t,j]\n",
    "        psis_list.append(np.argmax(elmnt_prod, axis=2)) # M(j) x N\n",
    "    \n",
    "    ### Backtracking algorithm\n",
    "    optim_states = np.zeros_like(input_sequences) # N x T\n",
    "    #[np.zeros(shape=(1,input_sequences.shape[0]))]*sequence_length\n",
    "    #optim_states[-1] = np.argmax(deltas_list[-1], axis=0) # argmax(delta(T)) has dim = N\n",
    "    optim_states[:,-1] = np.argmax(deltas_list[-1], axis=0) # argmax(delta(T)) has dim = N\n",
    "    #return np.array(psis_list), optim_states\n",
    "    # go barckards\n",
    "    for t_ in reversed(range(1,sequence_length)):\n",
    "        # preserve time direction\n",
    "        # first compute general tensor with all indices\n",
    "        # and then pick diagonal: so for example, for t_=29\n",
    "        #you get np.array(psis_list)[29, optim_states[i,29], i] for i=0,...,N-1\n",
    "        optim_states[:, t_-1] = np.diagonal(np.array(psis_list)[t_, \n",
    "                                                    optim_states[:, t_], :]) # diag of N x N matrix\n",
    "\n",
    "    return np.array(deltas_list), np.array(psis_list), optim_states"
   ]
  },
  {
   "cell_type": "markdown",
   "metadata": {},
   "source": [
    "## check"
   ]
  },
  {
   "cell_type": "code",
   "execution_count": 73,
   "metadata": {},
   "outputs": [],
   "source": [
    "dlt, psps, opt_st = viterbi(X_data, pi_, A_, B_)"
   ]
  },
  {
   "cell_type": "code",
   "execution_count": 81,
   "metadata": {},
   "outputs": [],
   "source": [
    "T = X_data.shape[1]\n",
    "delta = np.zeros((T, 2))\n",
    "psi = np.zeros((T, 2))\n",
    "# for each n\n",
    "for n_ in range(50):\n",
    "    # compare version with for loops...\n",
    "    delta[0] =pi_.reshape(2,) * B_[:, X_data[n_,0]]\n",
    "    for t in range(1,T):\n",
    "        for j in range(2):\n",
    "            delta[t,j] = np.max(delta[t-1]*A_[:,j])*B_[j, X_data[n_,t]]\n",
    "            psi[t,j] = np.argmax(delta[t-1]*A_[:,j])\n",
    "    # ... with tensorized version\n",
    "    ddt_ = np.array(dlt)[:,:,n_]\n",
    "    pss_ = np.array(psps)[:,:,n_]\n",
    "    \n",
    "    if not np.isclose(delta, ddt_).all():\n",
    "        print('DELTA DIFF', n_)\n",
    "    if not np.isclose(psi, pss_).all():\n",
    "        print('PSI DIFF', n_)\n",
    "\n",
    "    ### Backtrack\n",
    "    states = np.zeros(T, dtype=np.int32)\n",
    "    states[T-1] = np.argmax(delta[T-1])\n",
    "    for t in range(T-2,-1,-1):\n",
    "        states[t] = psi[t+1, states[t+1]]\n",
    "\n",
    "    if not np.isclose(states, opt_st[n_,:]).all():\n",
    "        print('STATES DIFF', n_)"
   ]
  },
  {
   "cell_type": "markdown",
   "metadata": {},
   "source": [
    "## Define tensorized HMM"
   ]
  },
  {
   "cell_type": "code",
   "execution_count": 115,
   "metadata": {},
   "outputs": [],
   "source": [
    "class TensorizedHMM:\n",
    "\n",
    "    def __init__(self, num_hidden_states):\n",
    "        self.M = num_hidden_states\n",
    "    @profile\n",
    "    def fit(self, X: np.ndarray, max_iter: int = 30, verbose: bool = False):\n",
    "        \"\"\"\n",
    "        Parameters:\n",
    "            max_iter: maximum number of EM iterations to allow\n",
    "            X: stores a set of observed sequences as rows.\n",
    "        \"\"\"\n",
    "\n",
    "        # include seed for reproducibility\n",
    "        np.random.seed(123)\n",
    "\n",
    "        # vocabulary size (classes from 0 to V-1)\n",
    "        # (number of x states = K is the maximum number \n",
    "        # of states in the training set found for a sequence)\n",
    "        vocab_size = max(max(x) for x in X) + 1 \n",
    "        num_sequences = len(X)\n",
    "\n",
    "        # initialize pi, A and B\n",
    "        self.pi, self.A, self.B = generate_initial_parameters(\n",
    "                                                vocab_size=vocab_size, \n",
    "                                                num_hidden_states=self.M)\n",
    "        # store cost\n",
    "        costs = list()\n",
    "        for it in range(max_iter):\n",
    "            #if it % 10 == 0:\n",
    "            #    print('it:', it)\n",
    "\n",
    "            #### Compute alpha\n",
    "            alpha_ini = alpha_initial(X, self.pi, self.B)\n",
    "            # compute the full list of alphas for all N\n",
    "            self.alpha_list = forward_algo_input_fixed(X, self.A, self.B, alpha_ini)\n",
    "\n",
    "            #### compute beta\n",
    "            beta_ini = beta_initial(self.M, num_sequences)\n",
    "            self.beta_list = backward_algo_input_fixed(X, self.A, self.B, beta_ini)\n",
    "\n",
    "            #### compute cost\n",
    "            P = probability_fixed_input_sequence(self.alpha_list[-1])\n",
    "            cost = np.sum(np.log(P))\n",
    "            costs.append(cost)\n",
    "\n",
    "            #### Reestimate pi, A and B\n",
    "            self.pi = update_pi(self.alpha_list, self.beta_list)\n",
    "            self.A = update_A(X, self.alpha_list, self.beta_list, self.A, self.B)\n",
    "            self.B = update_B(X, self.alpha_list, self.beta_list)\n",
    "\n",
    "            if verbose:\n",
    "                ## print & plot final estimates/costs\n",
    "                print('ITERATION:', it)\n",
    "                print(\"A:\", self.A)\n",
    "                print('check A:', self.A.sum(axis=1))\n",
    "                print(\"B:\", self.B)\n",
    "                print('check B:', self.B.sum(axis=1))\n",
    "                print(\"pi:\", self.pi)\n",
    "                print('check pi:', self.pi.sum())\n",
    "\n",
    "        \n",
    "        # plot costs\n",
    "        #plt.plot(costs)\n",
    "        #plt.show()\n",
    "\n",
    "    def likelihood(self, x):\n",
    "        '''\n",
    "        Computes the probability (likelihood) of a sequence\n",
    "        by means of the forward algorithm\n",
    "        '''\n",
    "        \n",
    "        alpha_ini = alpha_initial(x, self.pi, self.B)\n",
    "        # compute the full list of alphas for all N\n",
    "        self.alpha_list = forward_algo_input_fixed(x, self.A, self.B, alpha_ini)\n",
    "\n",
    "        return probability_fixed_input_sequence(self.alpha_list[-1])\n",
    "\n",
    "    def likelihood_multi(self, X):\n",
    "        '''\n",
    "        Computes the probability (likelihood) for all the\n",
    "        observations (sequences)\n",
    "        '''\n",
    "        #return np.array([self.likelihood(x) for x in X])\n",
    "        return self.likelihood(X)\n",
    "\n",
    "    def log_likelihood_multi(self, X):\n",
    "        '''\n",
    "        Computes the log likelihood of all the observations\n",
    "        '''\n",
    "        return np.log(self.likelihood_multi(X))\n",
    "\n",
    "    def get_state_sequence(self, x):\n",
    "        '''\n",
    "        Computes the most probable set of hidden states given \n",
    "        observation sequence x using the Viterbi algorithm\n",
    "\n",
    "        x can have dimension N x T\n",
    "        '''\n",
    "        return viterbi(x, self.pi, self.A, self.B)[2]"
   ]
  },
  {
   "cell_type": "markdown",
   "metadata": {},
   "source": [
    "## Comparison and speed"
   ]
  },
  {
   "cell_type": "code",
   "execution_count": 116,
   "metadata": {},
   "outputs": [],
   "source": [
    "import matplotlib.pyplot as plt\n",
    "import time\n",
    "import pickle\n",
    "# the random state is fixed so that the initial state is identical.\n",
    "thmm = TensorizedHMM(2)\n",
    "hmm = HMM(2)"
   ]
  },
  {
   "cell_type": "code",
   "execution_count": 100,
   "metadata": {},
   "outputs": [],
   "source": [
    "with open(\"./dict_tensor.pickle\", 'rb') as ff:\n",
    "    tensor_time_stats = pickle.load(ff)\n",
    "with open(\"./dict_original.pickle\", 'rb') as ff:\n",
    "    basic_time_stats = pickle.load(ff)"
   ]
  },
  {
   "cell_type": "code",
   "execution_count": 101,
   "metadata": {},
   "outputs": [],
   "source": [
    "tensor_time_stats = dict()\n",
    "for m_iter in [10,30,50,100]:\n",
    "    tensor_time_stats[m_iter] = list()\n",
    "    for exp_ in range(500):\n",
    "        #if exp_ % 10 == 0:\n",
    "        #    print(exp_)\n",
    "        start = time.time()\n",
    "        thmm = TensorizedHMM(2)\n",
    "        thmm.fit(X_data, max_iter=m_iter)\n",
    "        tensor_time_stats[m_iter].append(time.time()-start)"
   ]
  },
  {
   "cell_type": "code",
   "execution_count": 102,
   "metadata": {},
   "outputs": [
    {
     "name": "stderr",
     "output_type": "stream",
     "text": [
      "/tmp/ipykernel_241/3611249952.py:59: DeprecationWarning: Calling np.sum(generator) is deprecated, and in the future will give a different result. Use np.sum(np.fromiter(generator)) or the python sum builtin instead.\n",
      "  self.pi = np.sum((alphas[n][0] * betas[n][0])/P[n] for n in range(num_sequences))/num_sequences\n"
     ]
    }
   ],
   "source": [
    "basic_time_stats = dict()\n",
    "for m_iter in [10,30,50,100]:\n",
    "    basic_time_stats[m_iter] = list()\n",
    "    for exp_ in range(500):\n",
    "        #if exp_ % 10 == 0:\n",
    "        #    print(exp_)\n",
    "        start = time.time()\n",
    "        hmm = HMM(2)\n",
    "        hmm.fit(X_data, max_iter=m_iter)\n",
    "        basic_time_stats[m_iter].append(time.time()-start)"
   ]
  },
  {
   "cell_type": "code",
   "execution_count": 106,
   "metadata": {},
   "outputs": [
    {
     "data": {
      "image/png": "[encoded data removed]",
      "text/plain": [
       "<Figure size 432x288 with 1 Axes>"
      ]
     },
     "metadata": {
      "needs_background": "light"
     },
     "output_type": "display_data"
    }
   ],
   "source": [
    "plt.hist(tensor_time_stats[30])\n",
    "plt.hist(basic_time_stats[30])\n",
    "plt.show()"
   ]
  },
  {
   "cell_type": "code",
   "execution_count": 107,
   "metadata": {},
   "outputs": [
    {
     "data": {
      "image/png": "[encoded data removed]",
      "text/plain": [
       "<Figure size 432x288 with 1 Axes>"
      ]
     },
     "metadata": {
      "needs_background": "light"
     },
     "output_type": "display_data"
    }
   ],
   "source": [
    "plt.hist(tensor_time_stats[50])\n",
    "plt.hist(basic_time_stats[50])\n",
    "plt.show()"
   ]
  },
  {
   "cell_type": "code",
   "execution_count": 108,
   "metadata": {},
   "outputs": [
    {
     "data": {
      "image/png": "[encoded data removed]",
      "text/plain": [
       "<Figure size 432x288 with 1 Axes>"
      ]
     },
     "metadata": {
      "needs_background": "light"
     },
     "output_type": "display_data"
    }
   ],
   "source": [
    "plt.hist(tensor_time_stats[10])\n",
    "plt.hist(basic_time_stats[10])\n",
    "plt.show()"
   ]
  },
  {
   "cell_type": "code",
   "execution_count": 109,
   "metadata": {},
   "outputs": [
    {
     "data": {
      "image/png": "[encoded data removed]",
      "text/plain": [
       "<Figure size 432x288 with 1 Axes>"
      ]
     },
     "metadata": {
      "needs_background": "light"
     },
     "output_type": "display_data"
    }
   ],
   "source": [
    "plt.hist(tensor_time_stats[100])\n",
    "plt.hist(basic_time_stats[100])\n",
    "plt.show()"
   ]
  },
  {
   "cell_type": "code",
   "execution_count": 110,
   "metadata": {},
   "outputs": [
    {
     "name": "stdout",
     "output_type": "stream",
     "text": [
      "0.09674882888793945\n",
      "0.2788271903991699\n"
     ]
    }
   ],
   "source": [
    "print(np.max(tensor_time_stats[10]))\n",
    "print(np.max(basic_time_stats[10]))"
   ]
  },
  {
   "cell_type": "code",
   "execution_count": 111,
   "metadata": {},
   "outputs": [
    {
     "name": "stdout",
     "output_type": "stream",
     "text": [
      "0.47867298126220703\n",
      "2.8119468688964844\n"
     ]
    }
   ],
   "source": [
    "print(np.max(tensor_time_stats[100]))\n",
    "print(np.max(basic_time_stats[100]))"
   ]
  },
  {
   "cell_type": "code",
   "execution_count": 112,
   "metadata": {},
   "outputs": [
    {
     "name": "stdout",
     "output_type": "stream",
     "text": [
      "0.22649335861206055\n",
      "1.3389456272125244\n"
     ]
    }
   ],
   "source": [
    "print(np.max(tensor_time_stats[30]))\n",
    "print(np.max(basic_time_stats[30]))"
   ]
  },
  {
   "cell_type": "code",
   "execution_count": 113,
   "metadata": {},
   "outputs": [
    {
     "name": "stdout",
     "output_type": "stream",
     "text": [
      "0.17881441116333008\n",
      "1.656498908996582\n"
     ]
    }
   ],
   "source": [
    "print(np.max(tensor_time_stats[50]))\n",
    "print(np.max(basic_time_stats[50]))"
   ]
  },
  {
   "cell_type": "code",
   "execution_count": 105,
   "metadata": {},
   "outputs": [],
   "source": [
    "\"\"\"with open(\"./dict_tensor.pickle\", 'wb') as ff:\n",
    "    pickle.dump(tensor_time_stats, ff)\n",
    "with open(\"./dict_original.pickle\", 'wb') as ff:\n",
    "    pickle.dump(basic_time_stats, ff)\"\"\""
   ]
  },
  {
   "cell_type": "markdown",
   "metadata": {},
   "source": [
    "## Profiling"
   ]
  },
  {
   "cell_type": "code",
   "execution_count": 114,
   "metadata": {},
   "outputs": [],
   "source": [
    "import cProfile, pstats, io\n",
    "from pstats import SortKey\n",
    "\n",
    "def profile(fnc):\n",
    "    '''A decorator that uses CProfile for profiling a function fnc'''\n",
    "    \n",
    "    def inner(*args, **kwargs):\n",
    "        pr = cProfile.Profile()\n",
    "        pr.enable()\n",
    "        retval = fnc(*args, **kwargs)\n",
    "        pr.disable()\n",
    "        s = io.StringIO()\n",
    "        sortby = SortKey.CUMULATIVE\n",
    "        ps = pstats.Stats(pr, stream=s).sort_stats(sortby)\n",
    "        ps.print_stats()\n",
    "        print(s.getvalue())\n",
    "        return retval\n",
    "    \n",
    "    return inner"
   ]
  },
  {
   "cell_type": "markdown",
   "metadata": {},
   "source": []
  }
 ],
 "metadata": {
  "interpreter": {
   "hash": "19f2dcfaf593399b30a8f53af9c897705b95d8f5016d0f862fa64694b4ff6a68"
  },
  "kernelspec": {
   "display_name": "Python 3.8.12 64-bit ('HMMs_udemy': conda)",
   "language": "python",
   "name": "python3"
  },
  "language_info": {
   "codemirror_mode": {
    "name": "ipython",
    "version": 3
   },
   "file_extension": ".py",
   "mimetype": "text/x-python",
   "name": "python",
   "nbconvert_exporter": "python",
   "pygments_lexer": "ipython3",
   "version": "3.8.12"
  },
  "orig_nbformat": 4
 },
 "nbformat": 4,
 "nbformat_minor": 2
}
