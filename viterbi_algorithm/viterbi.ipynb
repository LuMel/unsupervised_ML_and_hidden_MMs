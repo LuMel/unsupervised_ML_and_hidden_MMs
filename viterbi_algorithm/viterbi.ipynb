{
 "cells": [
  {
   "cell_type": "markdown",
   "metadata": {},
   "source": [
    "# Viterbi algorithm\n",
    "\n",
    "This algorithm is useful to solve a problem that is different from what the forward and barckward algorithms solve.\n",
    "\n",
    "The Viterbi algorithm solves the following problem: given an observed sequence $x_1,...x_T$, what is the most probable sequence of hidden states $z_1,...,z_T$ that is associated with it?\n",
    "\n",
    "The Viterbi algorithm is an example of dynamic programming.\n",
    "\n",
    "Even though the Viterbi algorithm is not the forward algorithm, it works somehow *similar* to it, but with a different quantity.\n",
    "\n",
    "So, what we are trying to find is $$z^* \\equiv \\text{argmax}_{z}\\ p(z| x)\\,, $$ where, here, $z$ and $x$ represent, loosely, the entire sequences of hidden and observed states, respectively. Note that $ p(z|x) = \\frac{p(z,x)}{p(x)}$ and hence, since $p(x)$ does not depend on $z$, we have that $$ z^* = \\text{argmax}_{z}\\ p(z,x)$$"
   ]
  },
  {
   "cell_type": "code",
   "execution_count": 1,
   "metadata": {},
   "outputs": [],
   "source": [
    "import numpy as np"
   ]
  },
  {
   "cell_type": "markdown",
   "metadata": {},
   "source": [
    "### Solve the problem by brute force\n",
    "\n",
    "Before going through the Viterbi algorithm, we will see how to solve the problem by brute force, that is, evaluating all the possible combinations or paths in the case of sequence length equal to one and two."
   ]
  },
  {
   "cell_type": "markdown",
   "metadata": {},
   "source": [
    "#### 1. Case $T=1$\n",
    "\n",
    "This is very simple. Assume for example that we have a coin, so that $x \\in \\{\\text{head}, \\text{tail}\\}$. Also, we assume that the are two possible hidden states, $x \\in \\{1, 2\\}$.\n",
    "\n",
    "Consider that $\\pi = [0.5,0.5]$ and $B(1, \\text{head}) = 0.9\\,, B(2, \\text{head}) = 0.1$. We only need these two quantities because we are going to assume that the observation is $x = \\text{head}$. It is clear that\n",
    "\n",
    "$$ p(1,\\text{head}) = \\pi(1) B(1,\\text{head}) = 0.5\\times 0.9 = 0.45\\,,\\\\\n",
    "p(2,\\text{head}) = \\pi(2) B(2,\\text{head}) = 0.5\\times 0.1 = 0.05\\,,$$\n",
    "\n",
    "so we conclude that, in this example, the most probable hidden state associated to observation $x = \\text{head}$ in a sequence of length $T=1$ is $z = 1$. Note that this result depends on $\\pi$ and $B(z,x=\\text{head})$"
   ]
  },
  {
   "cell_type": "markdown",
   "metadata": {},
   "source": [
    "#### 2. Case $T=2$\n",
    "\n"
   ]
  },
  {
   "cell_type": "code",
   "execution_count": 2,
   "metadata": {},
   "outputs": [
    {
     "data": {
      "text/plain": [
       "0.05"
      ]
     },
     "execution_count": 2,
     "metadata": {},
     "output_type": "execute_result"
    }
   ],
   "source": [
    "0.1*0.5"
   ]
  }
 ],
 "metadata": {
  "interpreter": {
   "hash": "19f2dcfaf593399b30a8f53af9c897705b95d8f5016d0f862fa64694b4ff6a68"
  },
  "kernelspec": {
   "display_name": "Python 3.8.12 64-bit ('HMMs_udemy': conda)",
   "language": "python",
   "name": "python3"
  },
  "language_info": {
   "codemirror_mode": {
    "name": "ipython",
    "version": 3
   },
   "file_extension": ".py",
   "mimetype": "text/x-python",
   "name": "python",
   "nbconvert_exporter": "python",
   "pygments_lexer": "ipython3",
   "version": "3.8.12"
  },
  "orig_nbformat": 4
 },
 "nbformat": 4,
 "nbformat_minor": 2
}
