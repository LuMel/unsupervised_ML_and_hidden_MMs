{
 "cells": [
  {
   "cell_type": "markdown",
   "metadata": {},
   "source": [
    "# Viterbi algorithm\n",
    "\n",
    "This algorithm is useful to solve a problem that is different from what the forward and barckward algorithms solve.\n",
    "\n",
    "The Viterbi algorithm solves the following problem: given an observed sequence $x_1,...x_T$, what is the most probable sequence of hidden states $z_1,...,z_T$ that is associated with it?\n",
    "\n",
    "The Viterbi algorithm is an example of dynamic programming.\n",
    "\n",
    "Even though the Viterbi algorithm is not the forward algorithm, it works somehow *similar* to it, but with a different quantity.\n",
    "\n",
    "So, what we are trying to find is $$z^* \\equiv \\text{argmax}_{z}\\ p(z| x)\\,, $$ where, here, $z$ and $x$ represent, loosely, the entire sequences of hidden and observed states, respectively. Note that $ p(z|x) = \\frac{p(z,x)}{p(x)}$ and hence, since $p(x)$ does not depend on $z$, we have that $$ z^* = \\text{argmax}_{z}\\ p(z,x)$$"
   ]
  },
  {
   "cell_type": "code",
   "execution_count": 1,
   "metadata": {},
   "outputs": [],
   "source": [
    "import numpy as np"
   ]
  },
  {
   "cell_type": "markdown",
   "metadata": {},
   "source": [
    "### Solve the problem by brute force\n",
    "\n",
    "Before going through the Viterbi algorithm, we will see how to solve the problem by brute force, that is, evaluating all the possible combinations or paths in the case of sequence length equal to one and two."
   ]
  },
  {
   "cell_type": "markdown",
   "metadata": {},
   "source": [
    "#### 1. Case $T=1$\n",
    "\n",
    "This is very simple. Assume for example that we have a coin, so that $x \\in \\{\\text{head}, \\text{tail}\\}$. Also, we assume that the are two possible hidden states, $z \\in \\{1, 2\\}$.\n",
    "\n",
    "Consider that $\\pi = [0.5,0.5]$ and $B(1, \\text{head}) = 0.9\\,, B(2, \\text{head}) = 0.1$. We only need these two quantities because we are going to assume that the observation is $x = \\text{head}$ (although note that the above implies $B(1, \\text{tail}) = 0.1$ and $B(2, \\text{tail}) = 0.9$). It is clear that\n",
    "\n",
    "$$ p(1,\\text{head}) = \\pi(1) B(1,\\text{head}) = 0.5\\times 0.9 = 0.45\\,,\\\\\n",
    "p(2,\\text{head}) = \\pi(2) B(2,\\text{head}) = 0.5\\times 0.1 = 0.05\\,,$$\n",
    "\n",
    "so we conclude that, in this example, the most probable hidden state associated to observation $x = \\text{head}$ in a sequence of length $T=1$ is $z = 1$. Note that this result depends on $\\pi$ and $B(z,x=\\text{head})$"
   ]
  },
  {
   "cell_type": "markdown",
   "metadata": {},
   "source": [
    "#### 2. Case $T=2$\n",
    "\n",
    "Now assume that we have two elements in the sequence and that the transition matrix $A_{ij} = p(z_{t+1} = j| z_t = i)$ is \n",
    "\n",
    "$$ A= \\begin{pmatrix}\n",
    "0.8 & 0.2\\\\\n",
    "0.4 & 0.6 \n",
    "\\end{pmatrix}\\,,$$\n",
    "\n",
    "se that $p(2|1) = 0.2$, for example. The values of $\\pi$ and $B$ are the same as before.\n",
    "\n",
    "Also, assume that the observed sequence is $x = \\{\\text{heads}, \\text{tails}\\}$. Now, we know that the brute-force procedure grows exponentially, but $T=2$ is still small enough to handle the computation explicitly.\n",
    "\n",
    "The set of possible hidden-state sequences is $\\{11,12,21,22\\}$:\n",
    "\n",
    "$z=\\{11\\}$: $\\pi(1)B(1, \\text{heads}) A(1,1)B(1,\\text{tails}) = 0.5\\times 0.9 \\times 0.8 \\times 0.1 = 0.036$\n",
    "\n",
    "$z=\\{12\\}$: $\\pi(1)B(1, \\text{heads}) A(1,2)B(2,\\text{tails}) = 0.5 \\times 0.9 \\times 0.2 \\times 0.9 = 0.081$\n",
    "\n",
    "$z=\\{21\\}$: $\\pi(2)B(2, \\text{heads}) A(2,1)B(1,\\text{tails}) = 0.5 \\times 0.1 \\times 0.4 \\times 0.1 = 0.002$\n",
    "\n",
    "$z=\\{22\\}$: $\\pi(2)B(2, \\text{heads}) A(2,2)B(2,\\text{tails}) = 0.5 \\times 0.1 \\times 0.6 \\times 0.9 = 0.027$\n",
    "\n",
    "We see that, for this set of parameters, the maximum probability corresponds to $z=\\{12\\}$ or $z_1 =1\\,, z_2=2$.\n",
    "\n",
    "As for the forward algorithm, we see some commonalities here: the first two elements ($\\pi(1)B(1, \\text{heads})$) are the same for the  first two combinations, and the same happens ($\\pi(2)B(2, \\text{heads})$) for the last two.\n",
    "\n",
    "This can be formulated in a recursive algorithm whose computation time is only polynomial in $T$."
   ]
  },
  {
   "cell_type": "code",
   "execution_count": 4,
   "metadata": {},
   "outputs": [
    {
     "data": {
      "text/plain": [
       "0.027"
      ]
     },
     "execution_count": 4,
     "metadata": {},
     "output_type": "execute_result"
    }
   ],
   "source": [
    "0.1*0.5*0.6*0.9"
   ]
  },
  {
   "cell_type": "code",
   "execution_count": null,
   "metadata": {},
   "outputs": [],
   "source": []
  }
 ],
 "metadata": {
  "interpreter": {
   "hash": "19f2dcfaf593399b30a8f53af9c897705b95d8f5016d0f862fa64694b4ff6a68"
  },
  "kernelspec": {
   "display_name": "Python 3.8.12 64-bit ('HMMs_udemy': conda)",
   "language": "python",
   "name": "python3"
  },
  "language_info": {
   "codemirror_mode": {
    "name": "ipython",
    "version": 3
   },
   "file_extension": ".py",
   "mimetype": "text/x-python",
   "name": "python",
   "nbconvert_exporter": "python",
   "pygments_lexer": "ipython3",
   "version": "3.8.12"
  },
  "orig_nbformat": 4
 },
 "nbformat": 4,
 "nbformat_minor": 2
}
